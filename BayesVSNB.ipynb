{
 "cells": [
  {
   "cell_type": "markdown",
   "id": "92f78031",
   "metadata": {},
   "source": [
    "# Q1"
   ]
  },
  {
   "cell_type": "code",
   "execution_count": 1,
   "id": "1c647a34",
   "metadata": {},
   "outputs": [],
   "source": [
    "import numpy as np\n",
    "import math\n",
    "\n",
    "R = np.array([0,1,2,3])\n",
    "B = np.array([0,1,2,3])\n",
    "W = np.array([0,1,2,3])\n",
    "joint = []\n",
    "\n",
    "for i in range(0,len(R)):\n",
    "    for j in range(0,len(B)):\n",
    "        for k in range(0,len(W)):\n",
    "            x = [i,j,k]\n",
    "            if sum(x) == 3:\n",
    "                joint.append(x)"
   ]
  },
  {
   "cell_type": "code",
   "execution_count": 2,
   "id": "2760ba07",
   "metadata": {
    "scrolled": true
   },
   "outputs": [
    {
     "data": {
      "text/plain": [
       "[[0, 0, 3],\n",
       " [0, 1, 2],\n",
       " [0, 2, 1],\n",
       " [0, 3, 0],\n",
       " [1, 0, 2],\n",
       " [1, 1, 1],\n",
       " [1, 2, 0],\n",
       " [2, 0, 1],\n",
       " [2, 1, 0],\n",
       " [3, 0, 0]]"
      ]
     },
     "execution_count": 2,
     "metadata": {},
     "output_type": "execute_result"
    }
   ],
   "source": [
    "joint"
   ]
  },
  {
   "cell_type": "code",
   "execution_count": 3,
   "id": "e578906e",
   "metadata": {},
   "outputs": [],
   "source": [
    "def Combination(u,d):\n",
    "    P = math.factorial(u)/(math.factorial(u-d)*math.factorial(d))\n",
    "    return P"
   ]
  },
  {
   "cell_type": "code",
   "execution_count": 4,
   "id": "8610d2fb",
   "metadata": {},
   "outputs": [],
   "source": [
    "r = 0\n",
    "b = 0\n",
    "w = 0\n",
    "p = 0\n",
    "P = []\n",
    "for i in joint:\n",
    "    r = Combination(4,i[0])\n",
    "    b = Combination(5,i[1])\n",
    "    w = Combination(6,i[2])\n",
    "    total = Combination(15,3)\n",
    "    p = (r*b*w)/total\n",
    "    P.append(p)"
   ]
  },
  {
   "cell_type": "code",
   "execution_count": 5,
   "id": "bf5301d4",
   "metadata": {},
   "outputs": [],
   "source": [
    "index = 0\n",
    "maximum = 0\n",
    "for i in range(len(P)):\n",
    "    if P[i] > maximum:\n",
    "        maximum = P[i]\n",
    "        count = i"
   ]
  },
  {
   "cell_type": "code",
   "execution_count": 6,
   "id": "124e4834",
   "metadata": {},
   "outputs": [
    {
     "data": {
      "text/plain": [
       "0.26373626373626374"
      ]
     },
     "execution_count": 6,
     "metadata": {},
     "output_type": "execute_result"
    }
   ],
   "source": [
    "P[count]"
   ]
  },
  {
   "cell_type": "code",
   "execution_count": 7,
   "id": "14e53158",
   "metadata": {},
   "outputs": [
    {
     "data": {
      "text/plain": [
       "[1, 1, 1]"
      ]
     },
     "execution_count": 7,
     "metadata": {},
     "output_type": "execute_result"
    }
   ],
   "source": [
    "joint[count]"
   ]
  },
  {
   "cell_type": "markdown",
   "id": "50245ab5",
   "metadata": {},
   "source": [
    "# Q2"
   ]
  },
  {
   "cell_type": "code",
   "execution_count": 11,
   "id": "c98ad491",
   "metadata": {
    "scrolled": false
   },
   "outputs": [
    {
     "name": "stdout",
     "output_type": "stream",
     "text": [
      "       SepalLength  SepalWidth  PetalLength  PetalWidth\n",
      "count   149.000000  149.000000   149.000000  149.000000\n",
      "mean      5.848322    3.051007     3.774497    1.205369\n",
      "std       0.828594    0.433499     1.759651    0.761292\n",
      "min       4.300000    2.000000     1.000000    0.100000\n",
      "25%       5.100000    2.800000     1.600000    0.300000\n",
      "50%       5.800000    3.000000     4.400000    1.300000\n",
      "75%       6.400000    3.300000     5.100000    1.800000\n",
      "max       7.900000    4.400000     6.900000    2.500000\n"
     ]
    }
   ],
   "source": [
    "#import pandas and name this namespace as pd\n",
    "import pandas as pd\n",
    "#Load data and name the columns\n",
    "data = pd.read_csv('/home/alishba/Documents/Sem 5/ML/Assignment1/iris.data')\n",
    "data.columns = ['SepalLength','SepalWidth','PetalLength','PetalWidth','Class']\n",
    "print (data.describe())"
   ]
  },
  {
   "cell_type": "code",
   "execution_count": 12,
   "id": "9af01206",
   "metadata": {},
   "outputs": [
    {
     "data": {
      "text/html": [
       "<div>\n",
       "<style scoped>\n",
       "    .dataframe tbody tr th:only-of-type {\n",
       "        vertical-align: middle;\n",
       "    }\n",
       "\n",
       "    .dataframe tbody tr th {\n",
       "        vertical-align: top;\n",
       "    }\n",
       "\n",
       "    .dataframe thead th {\n",
       "        text-align: right;\n",
       "    }\n",
       "</style>\n",
       "<table border=\"1\" class=\"dataframe\">\n",
       "  <thead>\n",
       "    <tr style=\"text-align: right;\">\n",
       "      <th></th>\n",
       "      <th>SepalLength</th>\n",
       "      <th>SepalWidth</th>\n",
       "      <th>PetalLength</th>\n",
       "      <th>PetalWidth</th>\n",
       "      <th>Class</th>\n",
       "    </tr>\n",
       "  </thead>\n",
       "  <tbody>\n",
       "    <tr>\n",
       "      <th>55</th>\n",
       "      <td>6.3</td>\n",
       "      <td>3.3</td>\n",
       "      <td>4.7</td>\n",
       "      <td>1.6</td>\n",
       "      <td>Iris-versicolor</td>\n",
       "    </tr>\n",
       "    <tr>\n",
       "      <th>56</th>\n",
       "      <td>4.9</td>\n",
       "      <td>2.4</td>\n",
       "      <td>3.3</td>\n",
       "      <td>1.0</td>\n",
       "      <td>Iris-versicolor</td>\n",
       "    </tr>\n",
       "    <tr>\n",
       "      <th>57</th>\n",
       "      <td>6.6</td>\n",
       "      <td>2.9</td>\n",
       "      <td>4.6</td>\n",
       "      <td>1.3</td>\n",
       "      <td>Iris-versicolor</td>\n",
       "    </tr>\n",
       "    <tr>\n",
       "      <th>58</th>\n",
       "      <td>5.2</td>\n",
       "      <td>2.7</td>\n",
       "      <td>3.9</td>\n",
       "      <td>1.4</td>\n",
       "      <td>Iris-versicolor</td>\n",
       "    </tr>\n",
       "    <tr>\n",
       "      <th>59</th>\n",
       "      <td>5.0</td>\n",
       "      <td>2.0</td>\n",
       "      <td>3.5</td>\n",
       "      <td>1.0</td>\n",
       "      <td>Iris-versicolor</td>\n",
       "    </tr>\n",
       "    <tr>\n",
       "      <th>...</th>\n",
       "      <td>...</td>\n",
       "      <td>...</td>\n",
       "      <td>...</td>\n",
       "      <td>...</td>\n",
       "      <td>...</td>\n",
       "    </tr>\n",
       "    <tr>\n",
       "      <th>144</th>\n",
       "      <td>6.7</td>\n",
       "      <td>3.0</td>\n",
       "      <td>5.2</td>\n",
       "      <td>2.3</td>\n",
       "      <td>Iris-virginica</td>\n",
       "    </tr>\n",
       "    <tr>\n",
       "      <th>145</th>\n",
       "      <td>6.3</td>\n",
       "      <td>2.5</td>\n",
       "      <td>5.0</td>\n",
       "      <td>1.9</td>\n",
       "      <td>Iris-virginica</td>\n",
       "    </tr>\n",
       "    <tr>\n",
       "      <th>146</th>\n",
       "      <td>6.5</td>\n",
       "      <td>3.0</td>\n",
       "      <td>5.2</td>\n",
       "      <td>2.0</td>\n",
       "      <td>Iris-virginica</td>\n",
       "    </tr>\n",
       "    <tr>\n",
       "      <th>147</th>\n",
       "      <td>6.2</td>\n",
       "      <td>3.4</td>\n",
       "      <td>5.4</td>\n",
       "      <td>2.3</td>\n",
       "      <td>Iris-virginica</td>\n",
       "    </tr>\n",
       "    <tr>\n",
       "      <th>148</th>\n",
       "      <td>5.9</td>\n",
       "      <td>3.0</td>\n",
       "      <td>5.1</td>\n",
       "      <td>1.8</td>\n",
       "      <td>Iris-virginica</td>\n",
       "    </tr>\n",
       "  </tbody>\n",
       "</table>\n",
       "<p>94 rows × 5 columns</p>\n",
       "</div>"
      ],
      "text/plain": [
       "     SepalLength  SepalWidth  PetalLength  PetalWidth            Class\n",
       "55           6.3         3.3          4.7         1.6  Iris-versicolor\n",
       "56           4.9         2.4          3.3         1.0  Iris-versicolor\n",
       "57           6.6         2.9          4.6         1.3  Iris-versicolor\n",
       "58           5.2         2.7          3.9         1.4  Iris-versicolor\n",
       "59           5.0         2.0          3.5         1.0  Iris-versicolor\n",
       "..           ...         ...          ...         ...              ...\n",
       "144          6.7         3.0          5.2         2.3   Iris-virginica\n",
       "145          6.3         2.5          5.0         1.9   Iris-virginica\n",
       "146          6.5         3.0          5.2         2.0   Iris-virginica\n",
       "147          6.2         3.4          5.4         2.3   Iris-virginica\n",
       "148          5.9         3.0          5.1         1.8   Iris-virginica\n",
       "\n",
       "[94 rows x 5 columns]"
      ]
     },
     "execution_count": 12,
     "metadata": {},
     "output_type": "execute_result"
    }
   ],
   "source": [
    "data.iloc[55:,:]"
   ]
  },
  {
   "cell_type": "code",
   "execution_count": 13,
   "id": "9ab520c1",
   "metadata": {},
   "outputs": [],
   "source": [
    "Setosa = data.iloc[0:49,:]\n",
    "Versicolor = data.iloc[49:99,:]\n",
    "Virginica = data.iloc[99:,:]"
   ]
  },
  {
   "cell_type": "code",
   "execution_count": 14,
   "id": "d4340c24",
   "metadata": {},
   "outputs": [],
   "source": [
    "from scipy.stats import multivariate_normal \n",
    "\n",
    "def Gaussian(l1):\n",
    "    Setosa_mean = np.mean(Setosa.iloc[:,:-1])\n",
    "    Versicolor_mean = np.mean(Versicolor.iloc[:,:-1])\n",
    "    Virginica_mean = np.mean(Virginica.iloc[:,:-1])\n",
    "\n",
    "    Cov_Setosa = np.cov(Setosa.iloc[:,:-1].T)\n",
    "    Cov_Versicolor = np.cov(Versicolor.iloc[:,:-1].T)\n",
    "    Cov_Virginica = np.cov(Virginica.iloc[:,:-1].T)\n",
    "\n",
    "    P_Setosa = len(Setosa)/len(data)\n",
    "    P_Virginica = len(Virginica)/len(data)\n",
    "    P_Versicolor = len(Versicolor)/len(data)\n",
    "    \n",
    "    # P(Setosa/X) = P(X/Setosa)*P(Setosa)  / P(X)\n",
    "    Evidence = multivariate_normal.pdf(l1,Setosa_mean,Cov_Setosa)\n",
    "    Prob_Setosa = Evidence*P_Setosa\n",
    "\n",
    "    Evidence = multivariate_normal.pdf(l1,Versicolor_mean,Cov_Versicolor)\n",
    "    Prob_Versicolor = Evidence*P_Versicolor\n",
    "\n",
    "    Evidence = multivariate_normal.pdf(l1,Virginica_mean,Cov_Virginica)\n",
    "    Prob_Virginica = Evidence*P_Virginica\n",
    "    \n",
    "    Prob = np.array([Prob_Setosa,Prob_Versicolor,P_Virginica])\n",
    "    \n",
    "    return Prob"
   ]
  },
  {
   "cell_type": "code",
   "execution_count": 15,
   "id": "fa74714d",
   "metadata": {},
   "outputs": [],
   "source": [
    "def maximum(P):\n",
    "    index = 0\n",
    "    maximum = 0\n",
    "    for i in range(len(P)):\n",
    "        if P[i] > maximum:\n",
    "            maximum = P[i]\n",
    "            count = i\n",
    "            \n",
    "    return count"
   ]
  },
  {
   "cell_type": "code",
   "execution_count": 16,
   "id": "c8d35c51",
   "metadata": {},
   "outputs": [
    {
     "name": "stdout",
     "output_type": "stream",
     "text": [
      "The class is Versicolor.\n"
     ]
    }
   ],
   "source": [
    "l1 = [6.3,3.3,4.7,1.6]\n",
    "P = Gaussian(l1)\n",
    "\n",
    "if maximum(P) == 0:\n",
    "    print(\"The class is Setosa.\")\n",
    "elif maximum(P) == 1:\n",
    "    print(\"The class is Versicolor.\")\n",
    "elif maximum(P) == 2:\n",
    "    print(\"The class is Virginica.\")"
   ]
  },
  {
   "cell_type": "markdown",
   "id": "185df10a",
   "metadata": {},
   "source": [
    "### Gaussian NB"
   ]
  },
  {
   "cell_type": "code",
   "execution_count": 17,
   "id": "d8560fe6",
   "metadata": {
    "scrolled": true
   },
   "outputs": [
    {
     "name": "stderr",
     "output_type": "stream",
     "text": [
      "/home/alishba/notebook/jupyterenv/lib/python3.6/site-packages/sklearn/utils/validation.py:63: DataConversionWarning: A column-vector y was passed when a 1d array was expected. Please change the shape of y to (n_samples, ), for example using ravel().\n",
      "  return f(*args, **kwargs)\n"
     ]
    },
    {
     "data": {
      "text/plain": [
       "GaussianNB()"
      ]
     },
     "execution_count": 17,
     "metadata": {},
     "output_type": "execute_result"
    }
   ],
   "source": [
    "X = data.iloc[:,:-1]\n",
    "Y = data.iloc[:,-1:]\n",
    "\n",
    "from sklearn.naive_bayes import GaussianNB\n",
    "from sklearn.metrics import accuracy_score\n",
    "from sklearn.model_selection import train_test_split\n",
    "\n",
    "X_train,X_test,Y_train,Y_test = train_test_split(X,Y,test_size=0.2)\n",
    "\n",
    "clf = GaussianNB()\n",
    "clf.fit(X_train, Y_train)"
   ]
  },
  {
   "cell_type": "code",
   "execution_count": 18,
   "id": "4f7fda16",
   "metadata": {
    "scrolled": false
   },
   "outputs": [
    {
     "name": "stdout",
     "output_type": "stream",
     "text": [
      "                       Classification report \n",
      "\n",
      "\n",
      "                 precision    recall  f1-score   support\n",
      "\n",
      "    Iris-setosa       1.00      1.00      1.00         9\n",
      "Iris-versicolor       0.85      1.00      0.92        11\n",
      " Iris-virginica       1.00      0.80      0.89        10\n",
      "\n",
      "       accuracy                           0.93        30\n",
      "      macro avg       0.95      0.93      0.94        30\n",
      "   weighted avg       0.94      0.93      0.93        30\n",
      "\n"
     ]
    }
   ],
   "source": [
    "predict_test = clf.predict(X_test)\n",
    "# Accuracy Score on test dataset\n",
    "from sklearn.metrics import classification_report\n",
    "\n",
    "print(\"                       Classification report \\n\\n\")\n",
    "\n",
    "print(classification_report(Y_test, predict_test))"
   ]
  },
  {
   "cell_type": "markdown",
   "id": "92efc11d",
   "metadata": {},
   "source": [
    "# Q3"
   ]
  },
  {
   "cell_type": "code",
   "execution_count": 19,
   "id": "7e242ebc",
   "metadata": {},
   "outputs": [
    {
     "data": {
      "text/html": [
       "<div>\n",
       "<style scoped>\n",
       "    .dataframe tbody tr th:only-of-type {\n",
       "        vertical-align: middle;\n",
       "    }\n",
       "\n",
       "    .dataframe tbody tr th {\n",
       "        vertical-align: top;\n",
       "    }\n",
       "\n",
       "    .dataframe thead th {\n",
       "        text-align: right;\n",
       "    }\n",
       "</style>\n",
       "<table border=\"1\" class=\"dataframe\">\n",
       "  <thead>\n",
       "    <tr style=\"text-align: right;\">\n",
       "      <th></th>\n",
       "      <th>SepalLength</th>\n",
       "      <th>SepalWidth</th>\n",
       "      <th>PetalLength</th>\n",
       "      <th>PetalWidth</th>\n",
       "      <th>Class</th>\n",
       "    </tr>\n",
       "  </thead>\n",
       "  <tbody>\n",
       "    <tr>\n",
       "      <th>0</th>\n",
       "      <td>4.9</td>\n",
       "      <td>3.0</td>\n",
       "      <td>1.4</td>\n",
       "      <td>0.2</td>\n",
       "      <td>Iris-setosa</td>\n",
       "    </tr>\n",
       "    <tr>\n",
       "      <th>1</th>\n",
       "      <td>4.7</td>\n",
       "      <td>3.2</td>\n",
       "      <td>1.3</td>\n",
       "      <td>0.2</td>\n",
       "      <td>Iris-setosa</td>\n",
       "    </tr>\n",
       "    <tr>\n",
       "      <th>2</th>\n",
       "      <td>4.6</td>\n",
       "      <td>3.1</td>\n",
       "      <td>1.5</td>\n",
       "      <td>0.2</td>\n",
       "      <td>Iris-setosa</td>\n",
       "    </tr>\n",
       "    <tr>\n",
       "      <th>3</th>\n",
       "      <td>5.0</td>\n",
       "      <td>3.6</td>\n",
       "      <td>1.4</td>\n",
       "      <td>0.2</td>\n",
       "      <td>Iris-setosa</td>\n",
       "    </tr>\n",
       "    <tr>\n",
       "      <th>4</th>\n",
       "      <td>5.4</td>\n",
       "      <td>3.9</td>\n",
       "      <td>1.7</td>\n",
       "      <td>0.4</td>\n",
       "      <td>Iris-setosa</td>\n",
       "    </tr>\n",
       "    <tr>\n",
       "      <th>...</th>\n",
       "      <td>...</td>\n",
       "      <td>...</td>\n",
       "      <td>...</td>\n",
       "      <td>...</td>\n",
       "      <td>...</td>\n",
       "    </tr>\n",
       "    <tr>\n",
       "      <th>144</th>\n",
       "      <td>6.7</td>\n",
       "      <td>3.0</td>\n",
       "      <td>5.2</td>\n",
       "      <td>2.3</td>\n",
       "      <td>Iris-virginica</td>\n",
       "    </tr>\n",
       "    <tr>\n",
       "      <th>145</th>\n",
       "      <td>6.3</td>\n",
       "      <td>2.5</td>\n",
       "      <td>5.0</td>\n",
       "      <td>1.9</td>\n",
       "      <td>Iris-virginica</td>\n",
       "    </tr>\n",
       "    <tr>\n",
       "      <th>146</th>\n",
       "      <td>6.5</td>\n",
       "      <td>3.0</td>\n",
       "      <td>5.2</td>\n",
       "      <td>2.0</td>\n",
       "      <td>Iris-virginica</td>\n",
       "    </tr>\n",
       "    <tr>\n",
       "      <th>147</th>\n",
       "      <td>6.2</td>\n",
       "      <td>3.4</td>\n",
       "      <td>5.4</td>\n",
       "      <td>2.3</td>\n",
       "      <td>Iris-virginica</td>\n",
       "    </tr>\n",
       "    <tr>\n",
       "      <th>148</th>\n",
       "      <td>5.9</td>\n",
       "      <td>3.0</td>\n",
       "      <td>5.1</td>\n",
       "      <td>1.8</td>\n",
       "      <td>Iris-virginica</td>\n",
       "    </tr>\n",
       "  </tbody>\n",
       "</table>\n",
       "<p>149 rows × 5 columns</p>\n",
       "</div>"
      ],
      "text/plain": [
       "     SepalLength  SepalWidth  PetalLength  PetalWidth           Class\n",
       "0            4.9         3.0          1.4         0.2     Iris-setosa\n",
       "1            4.7         3.2          1.3         0.2     Iris-setosa\n",
       "2            4.6         3.1          1.5         0.2     Iris-setosa\n",
       "3            5.0         3.6          1.4         0.2     Iris-setosa\n",
       "4            5.4         3.9          1.7         0.4     Iris-setosa\n",
       "..           ...         ...          ...         ...             ...\n",
       "144          6.7         3.0          5.2         2.3  Iris-virginica\n",
       "145          6.3         2.5          5.0         1.9  Iris-virginica\n",
       "146          6.5         3.0          5.2         2.0  Iris-virginica\n",
       "147          6.2         3.4          5.4         2.3  Iris-virginica\n",
       "148          5.9         3.0          5.1         1.8  Iris-virginica\n",
       "\n",
       "[149 rows x 5 columns]"
      ]
     },
     "execution_count": 19,
     "metadata": {},
     "output_type": "execute_result"
    }
   ],
   "source": [
    "data"
   ]
  },
  {
   "cell_type": "code",
   "execution_count": 20,
   "id": "6f4c84d4",
   "metadata": {},
   "outputs": [],
   "source": [
    "from math import ceil\n",
    "SL = ceil(np.mean(data.SepalLength))\n",
    "SW = ceil(np.mean(data.SepalWidth))\n",
    "PL = ceil(np.mean(data.PetalLength))\n",
    "PW = ceil(np.mean(data.PetalWidth))"
   ]
  },
  {
   "cell_type": "code",
   "execution_count": 21,
   "id": "c4fba0ab",
   "metadata": {},
   "outputs": [],
   "source": [
    "SepalLength = []\n",
    "SepalWidth = []\n",
    "PetalLength = []\n",
    "PetalWidth = []\n",
    "\n",
    "for i in data.PetalLength:\n",
    "    if i<PL:\n",
    "        PetalLength.append(0)\n",
    "    else:\n",
    "        PetalLength.append(1)\n",
    "\n",
    "for i in data.PetalWidth:\n",
    "    if i<PW:\n",
    "        PetalWidth.append(0)\n",
    "    else:\n",
    "        PetalWidth.append(1)\n",
    "        \n",
    "for i in data.SepalLength:\n",
    "    if i < SL:\n",
    "        SepalLength.append(0)\n",
    "    else:\n",
    "        SepalLength.append(1)\n",
    "        \n",
    "for i in data.SepalWidth:\n",
    "    if i < SW:\n",
    "        SepalWidth.append(0)\n",
    "    else:\n",
    "        SepalWidth.append(1)"
   ]
  },
  {
   "cell_type": "code",
   "execution_count": 22,
   "id": "1832205e",
   "metadata": {},
   "outputs": [],
   "source": [
    "df = pd.DataFrame(columns=['PetalLength','PetalWidth','SepalLength','SepalWidth'])"
   ]
  },
  {
   "cell_type": "code",
   "execution_count": 23,
   "id": "14f16ab6",
   "metadata": {},
   "outputs": [],
   "source": [
    "df['PetalLength'] = PetalLength\n",
    "df['PetalWidth'] = PetalWidth\n",
    "df['SepalLength'] = SepalLength\n",
    "df['SepalWidth'] = SepalWidth"
   ]
  },
  {
   "cell_type": "code",
   "execution_count": 24,
   "id": "ba8ced6d",
   "metadata": {},
   "outputs": [
    {
     "data": {
      "text/html": [
       "<div>\n",
       "<style scoped>\n",
       "    .dataframe tbody tr th:only-of-type {\n",
       "        vertical-align: middle;\n",
       "    }\n",
       "\n",
       "    .dataframe tbody tr th {\n",
       "        vertical-align: top;\n",
       "    }\n",
       "\n",
       "    .dataframe thead th {\n",
       "        text-align: right;\n",
       "    }\n",
       "</style>\n",
       "<table border=\"1\" class=\"dataframe\">\n",
       "  <thead>\n",
       "    <tr style=\"text-align: right;\">\n",
       "      <th></th>\n",
       "      <th>PetalLength</th>\n",
       "      <th>PetalWidth</th>\n",
       "      <th>SepalLength</th>\n",
       "      <th>SepalWidth</th>\n",
       "    </tr>\n",
       "  </thead>\n",
       "  <tbody>\n",
       "    <tr>\n",
       "      <th>0</th>\n",
       "      <td>0</td>\n",
       "      <td>0</td>\n",
       "      <td>0</td>\n",
       "      <td>0</td>\n",
       "    </tr>\n",
       "    <tr>\n",
       "      <th>1</th>\n",
       "      <td>0</td>\n",
       "      <td>0</td>\n",
       "      <td>0</td>\n",
       "      <td>0</td>\n",
       "    </tr>\n",
       "    <tr>\n",
       "      <th>2</th>\n",
       "      <td>0</td>\n",
       "      <td>0</td>\n",
       "      <td>0</td>\n",
       "      <td>0</td>\n",
       "    </tr>\n",
       "    <tr>\n",
       "      <th>3</th>\n",
       "      <td>0</td>\n",
       "      <td>0</td>\n",
       "      <td>0</td>\n",
       "      <td>0</td>\n",
       "    </tr>\n",
       "    <tr>\n",
       "      <th>4</th>\n",
       "      <td>0</td>\n",
       "      <td>0</td>\n",
       "      <td>0</td>\n",
       "      <td>0</td>\n",
       "    </tr>\n",
       "    <tr>\n",
       "      <th>...</th>\n",
       "      <td>...</td>\n",
       "      <td>...</td>\n",
       "      <td>...</td>\n",
       "      <td>...</td>\n",
       "    </tr>\n",
       "    <tr>\n",
       "      <th>144</th>\n",
       "      <td>1</td>\n",
       "      <td>1</td>\n",
       "      <td>1</td>\n",
       "      <td>0</td>\n",
       "    </tr>\n",
       "    <tr>\n",
       "      <th>145</th>\n",
       "      <td>1</td>\n",
       "      <td>0</td>\n",
       "      <td>1</td>\n",
       "      <td>0</td>\n",
       "    </tr>\n",
       "    <tr>\n",
       "      <th>146</th>\n",
       "      <td>1</td>\n",
       "      <td>1</td>\n",
       "      <td>1</td>\n",
       "      <td>0</td>\n",
       "    </tr>\n",
       "    <tr>\n",
       "      <th>147</th>\n",
       "      <td>1</td>\n",
       "      <td>1</td>\n",
       "      <td>1</td>\n",
       "      <td>0</td>\n",
       "    </tr>\n",
       "    <tr>\n",
       "      <th>148</th>\n",
       "      <td>1</td>\n",
       "      <td>0</td>\n",
       "      <td>0</td>\n",
       "      <td>0</td>\n",
       "    </tr>\n",
       "  </tbody>\n",
       "</table>\n",
       "<p>149 rows × 4 columns</p>\n",
       "</div>"
      ],
      "text/plain": [
       "     PetalLength  PetalWidth  SepalLength  SepalWidth\n",
       "0              0           0            0           0\n",
       "1              0           0            0           0\n",
       "2              0           0            0           0\n",
       "3              0           0            0           0\n",
       "4              0           0            0           0\n",
       "..           ...         ...          ...         ...\n",
       "144            1           1            1           0\n",
       "145            1           0            1           0\n",
       "146            1           1            1           0\n",
       "147            1           1            1           0\n",
       "148            1           0            0           0\n",
       "\n",
       "[149 rows x 4 columns]"
      ]
     },
     "execution_count": 24,
     "metadata": {},
     "output_type": "execute_result"
    }
   ],
   "source": [
    "df"
   ]
  },
  {
   "cell_type": "code",
   "execution_count": 25,
   "id": "86eab92f",
   "metadata": {},
   "outputs": [
    {
     "data": {
      "text/html": [
       "<div>\n",
       "<style scoped>\n",
       "    .dataframe tbody tr th:only-of-type {\n",
       "        vertical-align: middle;\n",
       "    }\n",
       "\n",
       "    .dataframe tbody tr th {\n",
       "        vertical-align: top;\n",
       "    }\n",
       "\n",
       "    .dataframe thead th {\n",
       "        text-align: right;\n",
       "    }\n",
       "</style>\n",
       "<table border=\"1\" class=\"dataframe\">\n",
       "  <thead>\n",
       "    <tr style=\"text-align: right;\">\n",
       "      <th></th>\n",
       "      <th>SepalLength</th>\n",
       "      <th>SepalWidth</th>\n",
       "      <th>PetalLength</th>\n",
       "      <th>PetalWidth</th>\n",
       "      <th>Class</th>\n",
       "    </tr>\n",
       "  </thead>\n",
       "  <tbody>\n",
       "    <tr>\n",
       "      <th>0</th>\n",
       "      <td>4.9</td>\n",
       "      <td>3.0</td>\n",
       "      <td>1.4</td>\n",
       "      <td>0.2</td>\n",
       "      <td>Iris-setosa</td>\n",
       "    </tr>\n",
       "    <tr>\n",
       "      <th>1</th>\n",
       "      <td>4.7</td>\n",
       "      <td>3.2</td>\n",
       "      <td>1.3</td>\n",
       "      <td>0.2</td>\n",
       "      <td>Iris-setosa</td>\n",
       "    </tr>\n",
       "    <tr>\n",
       "      <th>2</th>\n",
       "      <td>4.6</td>\n",
       "      <td>3.1</td>\n",
       "      <td>1.5</td>\n",
       "      <td>0.2</td>\n",
       "      <td>Iris-setosa</td>\n",
       "    </tr>\n",
       "    <tr>\n",
       "      <th>3</th>\n",
       "      <td>5.0</td>\n",
       "      <td>3.6</td>\n",
       "      <td>1.4</td>\n",
       "      <td>0.2</td>\n",
       "      <td>Iris-setosa</td>\n",
       "    </tr>\n",
       "    <tr>\n",
       "      <th>4</th>\n",
       "      <td>5.4</td>\n",
       "      <td>3.9</td>\n",
       "      <td>1.7</td>\n",
       "      <td>0.4</td>\n",
       "      <td>Iris-setosa</td>\n",
       "    </tr>\n",
       "    <tr>\n",
       "      <th>...</th>\n",
       "      <td>...</td>\n",
       "      <td>...</td>\n",
       "      <td>...</td>\n",
       "      <td>...</td>\n",
       "      <td>...</td>\n",
       "    </tr>\n",
       "    <tr>\n",
       "      <th>144</th>\n",
       "      <td>6.7</td>\n",
       "      <td>3.0</td>\n",
       "      <td>5.2</td>\n",
       "      <td>2.3</td>\n",
       "      <td>Iris-virginica</td>\n",
       "    </tr>\n",
       "    <tr>\n",
       "      <th>145</th>\n",
       "      <td>6.3</td>\n",
       "      <td>2.5</td>\n",
       "      <td>5.0</td>\n",
       "      <td>1.9</td>\n",
       "      <td>Iris-virginica</td>\n",
       "    </tr>\n",
       "    <tr>\n",
       "      <th>146</th>\n",
       "      <td>6.5</td>\n",
       "      <td>3.0</td>\n",
       "      <td>5.2</td>\n",
       "      <td>2.0</td>\n",
       "      <td>Iris-virginica</td>\n",
       "    </tr>\n",
       "    <tr>\n",
       "      <th>147</th>\n",
       "      <td>6.2</td>\n",
       "      <td>3.4</td>\n",
       "      <td>5.4</td>\n",
       "      <td>2.3</td>\n",
       "      <td>Iris-virginica</td>\n",
       "    </tr>\n",
       "    <tr>\n",
       "      <th>148</th>\n",
       "      <td>5.9</td>\n",
       "      <td>3.0</td>\n",
       "      <td>5.1</td>\n",
       "      <td>1.8</td>\n",
       "      <td>Iris-virginica</td>\n",
       "    </tr>\n",
       "  </tbody>\n",
       "</table>\n",
       "<p>149 rows × 5 columns</p>\n",
       "</div>"
      ],
      "text/plain": [
       "     SepalLength  SepalWidth  PetalLength  PetalWidth           Class\n",
       "0            4.9         3.0          1.4         0.2     Iris-setosa\n",
       "1            4.7         3.2          1.3         0.2     Iris-setosa\n",
       "2            4.6         3.1          1.5         0.2     Iris-setosa\n",
       "3            5.0         3.6          1.4         0.2     Iris-setosa\n",
       "4            5.4         3.9          1.7         0.4     Iris-setosa\n",
       "..           ...         ...          ...         ...             ...\n",
       "144          6.7         3.0          5.2         2.3  Iris-virginica\n",
       "145          6.3         2.5          5.0         1.9  Iris-virginica\n",
       "146          6.5         3.0          5.2         2.0  Iris-virginica\n",
       "147          6.2         3.4          5.4         2.3  Iris-virginica\n",
       "148          5.9         3.0          5.1         1.8  Iris-virginica\n",
       "\n",
       "[149 rows x 5 columns]"
      ]
     },
     "execution_count": 25,
     "metadata": {},
     "output_type": "execute_result"
    }
   ],
   "source": [
    "data"
   ]
  },
  {
   "cell_type": "code",
   "execution_count": 26,
   "id": "6d405bbe",
   "metadata": {},
   "outputs": [],
   "source": [
    "Setosa = data.iloc[0:49,:]\n",
    "Versicolor = data.iloc[49:99,:]\n",
    "Virginica = data.iloc[99:,:]"
   ]
  },
  {
   "cell_type": "code",
   "execution_count": 27,
   "id": "d79018eb",
   "metadata": {},
   "outputs": [
    {
     "name": "stdout",
     "output_type": "stream",
     "text": [
      "The class is Virginica.\n"
     ]
    }
   ],
   "source": [
    "l1 = [1,0,0,0]\n",
    "P = Gaussian(l1)\n",
    "\n",
    "if maximum(P) == 0:\n",
    "    print(\"The class is Setosa.\")\n",
    "elif maximum(P) == 1:\n",
    "    print(\"The class is Versicolor.\")\n",
    "elif maximum(P) == 2:\n",
    "    print(\"The class is Virginica.\")"
   ]
  },
  {
   "cell_type": "code",
   "execution_count": null,
   "id": "783fd9e1",
   "metadata": {},
   "outputs": [],
   "source": []
  }
 ],
 "metadata": {
  "kernelspec": {
   "display_name": "Python 3 (ipykernel)",
   "language": "python",
   "name": "python3"
  },
  "language_info": {
   "codemirror_mode": {
    "name": "ipython",
    "version": 3
   },
   "file_extension": ".py",
   "mimetype": "text/x-python",
   "name": "python",
   "nbconvert_exporter": "python",
   "pygments_lexer": "ipython3",
   "version": "3.6.9"
  }
 },
 "nbformat": 4,
 "nbformat_minor": 5
}
