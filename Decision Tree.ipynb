{
 "cells": [
  {
   "cell_type": "code",
   "execution_count": 1,
   "metadata": {
    "id": "mJfLEAqPYZbt"
   },
   "outputs": [],
   "source": [
    "import pandas as pd\n",
    "import math"
   ]
  },
  {
   "cell_type": "code",
   "execution_count": 28,
   "metadata": {
    "id": "llOOD2P9Yb4M"
   },
   "outputs": [],
   "source": [
    "df = pd.read_csv('play_tennis.csv')"
   ]
  },
  {
   "cell_type": "code",
   "execution_count": 30,
   "metadata": {
    "id": "tHTQxzI-Y0V2"
   },
   "outputs": [],
   "source": [
    "df.drop('day',axis=1,inplace=True)"
   ]
  },
  {
   "cell_type": "code",
   "execution_count": 69,
   "metadata": {
    "id": "wVtQJeMUZyNX"
   },
   "outputs": [],
   "source": [
    "def Entropy(pi):\n",
    "    prob = pi*math.log2(pi)\n",
    "\n",
    "    return prob"
   ]
  },
  {
   "cell_type": "code",
   "execution_count": 90,
   "metadata": {
    "id": "dqynDgqYY0qn"
   },
   "outputs": [],
   "source": [
    "No = df.loc[df.play == 'No']\n",
    "Yes = df.loc[df.play == 'Yes']\n",
    "features = df.iloc[:,:-1]\n",
    "\n",
    "probability_No = len(No)/(len(No)+len(Yes))\n",
    "probability_Yes = len(Yes)/(len(No)+len(Yes))\n",
    "\n",
    "outlook_yes\t= Yes.iloc[:,:1]\n",
    "temp_yes = Yes.iloc[:,1:2]\n",
    "humidity_yes = Yes.iloc[:,2:3]\n",
    "wind_yes = Yes.iloc[:,3:]\n",
    "\n",
    "outlook_no\t= No.iloc[:,:1]\n",
    "temp_no = No.iloc[:,1:2]\n",
    "humidity_no = No.iloc[:,2:3]\n",
    "wind_no = No.iloc[:,3:]\n",
    "\n",
    "Entropy_data = -(Entropy(probability_No) + Entropy(probability_Yes))"
   ]
  },
  {
   "cell_type": "code",
   "execution_count": 126,
   "metadata": {
    "colab": {
     "base_uri": "https://localhost:8080/"
    },
    "id": "tE-LomvFrnw-",
    "outputId": "6e5b50ff-2942-496f-b4f8-0261ed557b02"
   },
   "outputs": [
    {
     "data": {
      "text/plain": [
       "0.9402859586706311"
      ]
     },
     "execution_count": 126,
     "metadata": {},
     "output_type": "execute_result"
    }
   ],
   "source": [
    "Entropy_data"
   ]
  },
  {
   "cell_type": "markdown",
   "metadata": {},
   "source": [
    "## Outlook"
   ]
  },
  {
   "cell_type": "code",
   "execution_count": 128,
   "metadata": {
    "id": "rCt94kYKbDI4"
   },
   "outputs": [],
   "source": [
    "outlook_yes_values = outlook_yes.value_counts()\n",
    "outlook_no_values = outlook_no.value_counts()"
   ]
  },
  {
   "cell_type": "code",
   "execution_count": 129,
   "metadata": {
    "id": "2oOZtYtpbRU6"
   },
   "outputs": [],
   "source": [
    "value_count = len(outlook_yes[outlook_yes['outlook']=='Sunny'])\n",
    "value_count2 = len(outlook_no[outlook_no['outlook']=='Sunny'])\n",
    "\n",
    "outlook_Sunny_sum = value_count+value_count2\n",
    "\n",
    "probyes = value_count/outlook_Sunny_sum\n",
    "probno = value_count2/outlook_Sunny_sum\n",
    "\n",
    "if probyes == 0 or probno == 0:\n",
    "    outlook_Sunny_Entropy = 0\n",
    "else:\n",
    "    outlook_Sunny_Entropy = -((Entropy(probyes)) + (Entropy(probno)))\n",
    "\n",
    "Entropy_Outlook = outlook_Sunny_Entropy*(len(df[df['outlook']=='Sunny'])/len(df.outlook))"
   ]
  },
  {
   "cell_type": "code",
   "execution_count": 130,
   "metadata": {
    "id": "SIF0ns6ffu87"
   },
   "outputs": [],
   "source": [
    "value_count = len(outlook_yes[outlook_yes['outlook']=='Rain'])\n",
    "value_count2 = len(outlook_no[outlook_no['outlook']=='Rain'])\n",
    "\n",
    "outlook_Rain_sum = value_count+value_count2\n",
    "\n",
    "probyes = value_count/outlook_Rain_sum\n",
    "probno = value_count2/outlook_Rain_sum\n",
    "\n",
    "if probyes == 0 or probno == 0:\n",
    "    outlook_Rain_Entropy = 0\n",
    "else:\n",
    "    outlook_Rain_Entropy = -((Entropy(probyes)) + (Entropy(probno)))\n",
    "\n",
    "Entropy_Outlook += outlook_Rain_Entropy*(len(df[df['outlook']=='Rain'])/len(df.outlook))"
   ]
  },
  {
   "cell_type": "code",
   "execution_count": 131,
   "metadata": {
    "id": "r6jEpydNf2rN"
   },
   "outputs": [],
   "source": [
    "value_count = len(outlook_yes[outlook_yes['outlook']=='Overcast'])\n",
    "value_count2 = len(outlook_no[outlook_no['outlook']=='Overcast'])\n",
    "\n",
    "outlook_Overcast_sum = value_count+value_count2\n",
    "\n",
    "probyes = value_count/outlook_Overcast_sum\n",
    "probno = value_count2/outlook_Overcast_sum\n",
    "\n",
    "if probyes == 0 or probno == 0:\n",
    "    outlook_Overcast_Entropy = 0\n",
    "else:\n",
    "    outlook_Overcast_Entropy = -((Entropy(probyes)) + (Entropy(probno)))\n",
    "\n",
    "Entropy_Outlook += outlook_Overcast_Entropy*(len(df[df['outlook']=='Overcast'])/len(df.outlook))"
   ]
  },
  {
   "cell_type": "code",
   "execution_count": 132,
   "metadata": {
    "colab": {
     "base_uri": "https://localhost:8080/"
    },
    "id": "sY_lGouShmfy",
    "outputId": "5eaecdf0-d77e-4b0f-eaf3-1c2dc40a5ae9"
   },
   "outputs": [
    {
     "data": {
      "text/plain": [
       "0.6935361388961918"
      ]
     },
     "execution_count": 132,
     "metadata": {},
     "output_type": "execute_result"
    }
   ],
   "source": [
    "Entropy_Outlook"
   ]
  },
  {
   "cell_type": "code",
   "execution_count": 133,
   "metadata": {},
   "outputs": [
    {
     "data": {
      "text/plain": [
       "0.24674981977443933"
      ]
     },
     "execution_count": 133,
     "metadata": {},
     "output_type": "execute_result"
    }
   ],
   "source": [
    "Information_Gain = Entropy_data - Entropy_Outlook\n",
    "Information_Gain"
   ]
  },
  {
   "cell_type": "markdown",
   "metadata": {},
   "source": [
    "## Temp"
   ]
  },
  {
   "cell_type": "code",
   "execution_count": 141,
   "metadata": {
    "id": "QI9ktrB_i4Xk"
   },
   "outputs": [],
   "source": [
    "temp_yes_values = temp_yes.value_counts()\n",
    "temp_no_values = temp_no.value_counts()"
   ]
  },
  {
   "cell_type": "code",
   "execution_count": 142,
   "metadata": {
    "id": "kcAr1D9718tB"
   },
   "outputs": [],
   "source": [
    "value_count = len(temp_yes[temp_yes['temp']=='Hot'])\n",
    "value_count2 = len(temp_no[temp_no['temp']=='Hot'])\n",
    "\n",
    "temp_Hot_sum = value_count+value_count2\n",
    "\n",
    "probyes = value_count/temp_Hot_sum\n",
    "probno = value_count2/temp_Hot_sum\n",
    "\n",
    "temp_Hot_Entropy = -((Entropy(probyes)) + (Entropy(probno)))\n",
    "\n",
    "Entropy_temp = temp_Hot_Entropy*(len(df[df['temp']=='Hot'])/len(df.temp))"
   ]
  },
  {
   "cell_type": "code",
   "execution_count": 143,
   "metadata": {
    "id": "Wi6J1f4718tD"
   },
   "outputs": [],
   "source": [
    "value_count = len(temp_yes[temp_yes['temp']=='Mild'])\n",
    "value_count2 = len(temp_no[temp_no['temp']=='Mild'])\n",
    "\n",
    "temp_Mild_sum = value_count+value_count2\n",
    "\n",
    "probyes = value_count/temp_Mild_sum\n",
    "probno = value_count2/temp_Mild_sum\n",
    "\n",
    "temp_Mild_Entropy = -((Entropy(probyes)) + (Entropy(probno)))\n",
    "\n",
    "Entropy_temp += temp_Mild_Entropy*(len(df[df['temp']=='Mild'])/len(df.temp))"
   ]
  },
  {
   "cell_type": "code",
   "execution_count": 144,
   "metadata": {
    "id": "zmolEB_218tD"
   },
   "outputs": [],
   "source": [
    "value_count = len(temp_yes[temp_yes['temp']=='Cool'])\n",
    "value_count2 = len(temp_no[temp_no['temp']=='Cool'])\n",
    "\n",
    "temp_cool_sum = value_count+value_count2\n",
    "\n",
    "probyes = value_count/temp_cool_sum\n",
    "probno = value_count2/temp_cool_sum\n",
    "\n",
    "outlook_Overcast_Entropy = -((Entropy(probyes)) + (Entropy(probno)))\n",
    "\n",
    "Entropy_temp += outlook_Overcast_Entropy*(len(df[df['temp']=='Cool'])/len(df.outlook))"
   ]
  },
  {
   "cell_type": "code",
   "execution_count": 145,
   "metadata": {},
   "outputs": [
    {
     "data": {
      "text/plain": [
       "0.9110633930116763"
      ]
     },
     "execution_count": 145,
     "metadata": {},
     "output_type": "execute_result"
    }
   ],
   "source": [
    "Entropy_temp"
   ]
  },
  {
   "cell_type": "code",
   "execution_count": 146,
   "metadata": {},
   "outputs": [
    {
     "data": {
      "text/plain": [
       "0.02922256565895487"
      ]
     },
     "execution_count": 146,
     "metadata": {},
     "output_type": "execute_result"
    }
   ],
   "source": [
    "Information_Gain = Entropy_data - Entropy_temp\n",
    "Information_Gain"
   ]
  },
  {
   "cell_type": "markdown",
   "metadata": {},
   "source": [
    "### Humidity"
   ]
  },
  {
   "cell_type": "code",
   "execution_count": 147,
   "metadata": {
    "id": "QI9ktrB_i4Xk"
   },
   "outputs": [],
   "source": [
    "humidity_yes_values = humidity_yes.value_counts()\n",
    "humidity_no_values = humidity_no.value_counts()"
   ]
  },
  {
   "cell_type": "code",
   "execution_count": 152,
   "metadata": {
    "id": "kcAr1D9718tB"
   },
   "outputs": [],
   "source": [
    "value_count = len(humidity_yes[humidity_yes['humidity']=='High'])\n",
    "value_count2 = len(humidity_no[humidity_no['humidity']=='High'])\n",
    "\n",
    "humidity_High_sum = value_count + value_count2\n",
    "\n",
    "probyes = value_count/humidity_High_sum\n",
    "probno = value_count2/humidity_High_sum\n",
    "\n",
    "humidity_High_Entropy = -((Entropy(probyes)) + (Entropy(probno)))\n",
    "\n",
    "Entropy_humidity = humidity_High_Entropy*(len(df[df['humidity'] == 'High'])/len(df.humidity))"
   ]
  },
  {
   "cell_type": "code",
   "execution_count": 153,
   "metadata": {
    "id": "Wi6J1f4718tD"
   },
   "outputs": [],
   "source": [
    "value_count = len(humidity_yes[humidity_yes['humidity']=='Normal'])\n",
    "value_count2 = len(humidity_no[humidity_no['humidity']=='Normal'])\n",
    "\n",
    "humidity_Normal_sum = value_count + value_count2\n",
    "\n",
    "probyes = value_count/humidity_Normal_sum\n",
    "probno = value_count2/humidity_Normal_sum\n",
    "\n",
    "humidity_Normal_Entropy = -((Entropy(probyes)) + (Entropy(probno)))\n",
    "\n",
    "Entropy_humidity += humidity_Normal_Entropy*(len(df[df['humidity'] == 'Normal'])/len(df.humidity))"
   ]
  },
  {
   "cell_type": "code",
   "execution_count": 154,
   "metadata": {},
   "outputs": [
    {
     "data": {
      "text/plain": [
       "0.7884504573082896"
      ]
     },
     "execution_count": 154,
     "metadata": {},
     "output_type": "execute_result"
    }
   ],
   "source": [
    "Entropy_humidity"
   ]
  },
  {
   "cell_type": "code",
   "execution_count": 155,
   "metadata": {},
   "outputs": [
    {
     "data": {
      "text/plain": [
       "0.15183550136234159"
      ]
     },
     "execution_count": 155,
     "metadata": {},
     "output_type": "execute_result"
    }
   ],
   "source": [
    "Information_Gain = Entropy_data - Entropy_humidity\n",
    "Information_Gain"
   ]
  },
  {
   "cell_type": "markdown",
   "metadata": {},
   "source": [
    "## Wind"
   ]
  },
  {
   "cell_type": "code",
   "execution_count": 156,
   "metadata": {
    "id": "QI9ktrB_i4Xk"
   },
   "outputs": [],
   "source": [
    "wind_yes_values =wind_yes.value_counts()\n",
    "wind_no_values =wind_no.value_counts()"
   ]
  },
  {
   "cell_type": "code",
   "execution_count": 157,
   "metadata": {
    "id": "Wi6J1f4718tD"
   },
   "outputs": [],
   "source": [
    "value_count = len(wind_yes[wind_yes['wind']=='Strong'])\n",
    "value_count2 =len(wind_no[wind_no['wind']=='Strong'])\n",
    "\n",
    "wind_Strong_sum = value_count + value_count2\n",
    "\n",
    "probyes = value_count/wind_Strong_sum\n",
    "probno = value_count2/wind_Strong_sum\n",
    "\n",
    "wind_Normal_Entropy = -((Entropy(probyes)) + (Entropy(probno)))\n",
    "\n",
    "Entropy_wind = wind_Normal_Entropy*(len(df[df['wind'] == 'Strong'])/len(df.wind))"
   ]
  },
  {
   "cell_type": "code",
   "execution_count": 158,
   "metadata": {},
   "outputs": [],
   "source": [
    "value_count = len(wind_yes[wind_yes['wind']=='Weak'])\n",
    "value_count2 =len(wind_no[wind_no['wind']=='Weak'])\n",
    "\n",
    "wind_Weak_sum = value_count + value_count2\n",
    "\n",
    "probyes = value_count/wind_Weak_sum\n",
    "probno = value_count2/wind_Weak_sum\n",
    "\n",
    "wind_Normal_Entropy = -((Entropy(probyes)) + (Entropy(probno)))\n",
    "\n",
    "Entropy_wind += wind_Normal_Entropy*(len(df[df['wind'] == 'Weak'])/len(df.wind))"
   ]
  },
  {
   "cell_type": "code",
   "execution_count": 159,
   "metadata": {},
   "outputs": [
    {
     "data": {
      "text/plain": [
       "0.8921589282623617"
      ]
     },
     "execution_count": 159,
     "metadata": {},
     "output_type": "execute_result"
    }
   ],
   "source": [
    "Entropy_wind"
   ]
  },
  {
   "cell_type": "code",
   "execution_count": 160,
   "metadata": {},
   "outputs": [
    {
     "data": {
      "text/plain": [
       "0.04812703040826949"
      ]
     },
     "execution_count": 160,
     "metadata": {},
     "output_type": "execute_result"
    }
   ],
   "source": [
    "Information_Gain = Entropy_data - Entropy_wind\n",
    "Information_Gain"
   ]
  },
  {
   "cell_type": "markdown",
   "metadata": {},
   "source": [
    "#### Information Gain for Outlook class is highest thus it'll be selected as the root node"
   ]
  }
 ],
 "metadata": {
  "colab": {
   "collapsed_sections": [],
   "provenance": []
  },
  "kernelspec": {
   "display_name": "Python 3 (ipykernel)",
   "language": "python",
   "name": "python3"
  },
  "language_info": {
   "codemirror_mode": {
    "name": "ipython",
    "version": 3
   },
   "file_extension": ".py",
   "mimetype": "text/x-python",
   "name": "python",
   "nbconvert_exporter": "python",
   "pygments_lexer": "ipython3",
   "version": "3.9.12"
  }
 },
 "nbformat": 4,
 "nbformat_minor": 1
}
