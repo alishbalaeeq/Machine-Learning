{
 "cells": [
  {
   "cell_type": "code",
   "execution_count": 38,
   "metadata": {
    "id": "rQmQpHfEKh7e"
   },
   "outputs": [],
   "source": [
    "import pandas as pd\n",
    "import numpy as np\n",
    "import matplotlib.pyplot as plt\n"
   ]
  },
  {
   "cell_type": "code",
   "execution_count": 39,
   "metadata": {
    "id": "AXG2ebDmKn6Q"
   },
   "outputs": [],
   "source": [
    "df = pd.read_csv(\"Housing.csv\")"
   ]
  },
  {
   "cell_type": "code",
   "execution_count": 40,
   "metadata": {
    "colab": {
     "base_uri": "https://localhost:8080/",
     "height": 488
    },
    "id": "sVw5xIMoKvBI",
    "outputId": "33ff153e-e549-4cbe-b351-80963b3cc3f8",
    "scrolled": true
   },
   "outputs": [
    {
     "data": {
      "text/html": [
       "<div>\n",
       "<style scoped>\n",
       "    .dataframe tbody tr th:only-of-type {\n",
       "        vertical-align: middle;\n",
       "    }\n",
       "\n",
       "    .dataframe tbody tr th {\n",
       "        vertical-align: top;\n",
       "    }\n",
       "\n",
       "    .dataframe thead th {\n",
       "        text-align: right;\n",
       "    }\n",
       "</style>\n",
       "<table border=\"1\" class=\"dataframe\">\n",
       "  <thead>\n",
       "    <tr style=\"text-align: right;\">\n",
       "      <th></th>\n",
       "      <th>price</th>\n",
       "      <th>area</th>\n",
       "      <th>length</th>\n",
       "      <th>width</th>\n",
       "      <th>bedrooms</th>\n",
       "      <th>bathrooms</th>\n",
       "      <th>stories</th>\n",
       "      <th>mainroad</th>\n",
       "      <th>guestroom</th>\n",
       "      <th>basement</th>\n",
       "      <th>hotwaterheating</th>\n",
       "      <th>airconditioning</th>\n",
       "      <th>parking</th>\n",
       "      <th>prefarea</th>\n",
       "      <th>furnishingstatus</th>\n",
       "    </tr>\n",
       "  </thead>\n",
       "  <tbody>\n",
       "    <tr>\n",
       "      <th>0</th>\n",
       "      <td>1465896</td>\n",
       "      <td>244316</td>\n",
       "      <td>593</td>\n",
       "      <td>412</td>\n",
       "      <td>4</td>\n",
       "      <td>2</td>\n",
       "      <td>3</td>\n",
       "      <td>yes</td>\n",
       "      <td>no</td>\n",
       "      <td>no</td>\n",
       "      <td>no</td>\n",
       "      <td>yes</td>\n",
       "      <td>2</td>\n",
       "      <td>yes</td>\n",
       "      <td>furnished</td>\n",
       "    </tr>\n",
       "    <tr>\n",
       "      <th>1</th>\n",
       "      <td>3123904</td>\n",
       "      <td>390488</td>\n",
       "      <td>734</td>\n",
       "      <td>532</td>\n",
       "      <td>4</td>\n",
       "      <td>4</td>\n",
       "      <td>4</td>\n",
       "      <td>yes</td>\n",
       "      <td>no</td>\n",
       "      <td>no</td>\n",
       "      <td>no</td>\n",
       "      <td>yes</td>\n",
       "      <td>3</td>\n",
       "      <td>no</td>\n",
       "      <td>furnished</td>\n",
       "    </tr>\n",
       "    <tr>\n",
       "      <th>2</th>\n",
       "      <td>1519896</td>\n",
       "      <td>379974</td>\n",
       "      <td>498</td>\n",
       "      <td>763</td>\n",
       "      <td>3</td>\n",
       "      <td>2</td>\n",
       "      <td>2</td>\n",
       "      <td>yes</td>\n",
       "      <td>no</td>\n",
       "      <td>yes</td>\n",
       "      <td>no</td>\n",
       "      <td>no</td>\n",
       "      <td>2</td>\n",
       "      <td>yes</td>\n",
       "      <td>semi-furnished</td>\n",
       "    </tr>\n",
       "    <tr>\n",
       "      <th>3</th>\n",
       "      <td>1152112</td>\n",
       "      <td>288028</td>\n",
       "      <td>382</td>\n",
       "      <td>754</td>\n",
       "      <td>4</td>\n",
       "      <td>2</td>\n",
       "      <td>2</td>\n",
       "      <td>yes</td>\n",
       "      <td>no</td>\n",
       "      <td>yes</td>\n",
       "      <td>no</td>\n",
       "      <td>yes</td>\n",
       "      <td>3</td>\n",
       "      <td>yes</td>\n",
       "      <td>furnished</td>\n",
       "    </tr>\n",
       "    <tr>\n",
       "      <th>4</th>\n",
       "      <td>887292</td>\n",
       "      <td>221823</td>\n",
       "      <td>503</td>\n",
       "      <td>441</td>\n",
       "      <td>4</td>\n",
       "      <td>1</td>\n",
       "      <td>2</td>\n",
       "      <td>yes</td>\n",
       "      <td>yes</td>\n",
       "      <td>yes</td>\n",
       "      <td>no</td>\n",
       "      <td>yes</td>\n",
       "      <td>2</td>\n",
       "      <td>no</td>\n",
       "      <td>furnished</td>\n",
       "    </tr>\n",
       "    <tr>\n",
       "      <th>...</th>\n",
       "      <td>...</td>\n",
       "      <td>...</td>\n",
       "      <td>...</td>\n",
       "      <td>...</td>\n",
       "      <td>...</td>\n",
       "      <td>...</td>\n",
       "      <td>...</td>\n",
       "      <td>...</td>\n",
       "      <td>...</td>\n",
       "      <td>...</td>\n",
       "      <td>...</td>\n",
       "      <td>...</td>\n",
       "      <td>...</td>\n",
       "      <td>...</td>\n",
       "      <td>...</td>\n",
       "    </tr>\n",
       "    <tr>\n",
       "      <th>540</th>\n",
       "      <td>377880</td>\n",
       "      <td>188940</td>\n",
       "      <td>470</td>\n",
       "      <td>402</td>\n",
       "      <td>2</td>\n",
       "      <td>1</td>\n",
       "      <td>1</td>\n",
       "      <td>yes</td>\n",
       "      <td>no</td>\n",
       "      <td>yes</td>\n",
       "      <td>no</td>\n",
       "      <td>no</td>\n",
       "      <td>2</td>\n",
       "      <td>no</td>\n",
       "      <td>unfurnished</td>\n",
       "    </tr>\n",
       "    <tr>\n",
       "      <th>541</th>\n",
       "      <td>483084</td>\n",
       "      <td>241542</td>\n",
       "      <td>497</td>\n",
       "      <td>486</td>\n",
       "      <td>3</td>\n",
       "      <td>1</td>\n",
       "      <td>1</td>\n",
       "      <td>no</td>\n",
       "      <td>no</td>\n",
       "      <td>no</td>\n",
       "      <td>no</td>\n",
       "      <td>no</td>\n",
       "      <td>0</td>\n",
       "      <td>no</td>\n",
       "      <td>semi-furnished</td>\n",
       "    </tr>\n",
       "    <tr>\n",
       "      <th>542</th>\n",
       "      <td>364276</td>\n",
       "      <td>182138</td>\n",
       "      <td>374</td>\n",
       "      <td>487</td>\n",
       "      <td>2</td>\n",
       "      <td>1</td>\n",
       "      <td>1</td>\n",
       "      <td>yes</td>\n",
       "      <td>no</td>\n",
       "      <td>no</td>\n",
       "      <td>no</td>\n",
       "      <td>no</td>\n",
       "      <td>0</td>\n",
       "      <td>no</td>\n",
       "      <td>unfurnished</td>\n",
       "    </tr>\n",
       "    <tr>\n",
       "      <th>543</th>\n",
       "      <td>734160</td>\n",
       "      <td>367080</td>\n",
       "      <td>570</td>\n",
       "      <td>644</td>\n",
       "      <td>3</td>\n",
       "      <td>1</td>\n",
       "      <td>1</td>\n",
       "      <td>no</td>\n",
       "      <td>no</td>\n",
       "      <td>no</td>\n",
       "      <td>no</td>\n",
       "      <td>no</td>\n",
       "      <td>0</td>\n",
       "      <td>no</td>\n",
       "      <td>furnished</td>\n",
       "    </tr>\n",
       "    <tr>\n",
       "      <th>544</th>\n",
       "      <td>1625268</td>\n",
       "      <td>406317</td>\n",
       "      <td>527</td>\n",
       "      <td>771</td>\n",
       "      <td>3</td>\n",
       "      <td>1</td>\n",
       "      <td>2</td>\n",
       "      <td>yes</td>\n",
       "      <td>no</td>\n",
       "      <td>no</td>\n",
       "      <td>no</td>\n",
       "      <td>no</td>\n",
       "      <td>0</td>\n",
       "      <td>no</td>\n",
       "      <td>unfurnished</td>\n",
       "    </tr>\n",
       "  </tbody>\n",
       "</table>\n",
       "<p>545 rows × 15 columns</p>\n",
       "</div>"
      ],
      "text/plain": [
       "       price    area  length  width  bedrooms  bathrooms  stories mainroad  \\\n",
       "0    1465896  244316     593    412         4          2        3      yes   \n",
       "1    3123904  390488     734    532         4          4        4      yes   \n",
       "2    1519896  379974     498    763         3          2        2      yes   \n",
       "3    1152112  288028     382    754         4          2        2      yes   \n",
       "4     887292  221823     503    441         4          1        2      yes   \n",
       "..       ...     ...     ...    ...       ...        ...      ...      ...   \n",
       "540   377880  188940     470    402         2          1        1      yes   \n",
       "541   483084  241542     497    486         3          1        1       no   \n",
       "542   364276  182138     374    487         2          1        1      yes   \n",
       "543   734160  367080     570    644         3          1        1       no   \n",
       "544  1625268  406317     527    771         3          1        2      yes   \n",
       "\n",
       "    guestroom basement hotwaterheating airconditioning  parking prefarea  \\\n",
       "0          no       no              no             yes        2      yes   \n",
       "1          no       no              no             yes        3       no   \n",
       "2          no      yes              no              no        2      yes   \n",
       "3          no      yes              no             yes        3      yes   \n",
       "4         yes      yes              no             yes        2       no   \n",
       "..        ...      ...             ...             ...      ...      ...   \n",
       "540        no      yes              no              no        2       no   \n",
       "541        no       no              no              no        0       no   \n",
       "542        no       no              no              no        0       no   \n",
       "543        no       no              no              no        0       no   \n",
       "544        no       no              no              no        0       no   \n",
       "\n",
       "    furnishingstatus  \n",
       "0          furnished  \n",
       "1          furnished  \n",
       "2     semi-furnished  \n",
       "3          furnished  \n",
       "4          furnished  \n",
       "..               ...  \n",
       "540      unfurnished  \n",
       "541   semi-furnished  \n",
       "542      unfurnished  \n",
       "543        furnished  \n",
       "544      unfurnished  \n",
       "\n",
       "[545 rows x 15 columns]"
      ]
     },
     "execution_count": 40,
     "metadata": {},
     "output_type": "execute_result"
    }
   ],
   "source": [
    "df"
   ]
  },
  {
   "cell_type": "markdown",
   "metadata": {},
   "source": [
    "### MEAN"
   ]
  },
  {
   "cell_type": "code",
   "execution_count": 41,
   "metadata": {
    "colab": {
     "base_uri": "https://localhost:8080/"
    },
    "id": "rV1MMey7Llwi",
    "outputId": "34cb06bf-b122-4a81-965a-b97a90d9dee4"
   },
   "outputs": [],
   "source": [
    "means = np.mean(df,axis=0)"
   ]
  },
  {
   "cell_type": "code",
   "execution_count": 42,
   "metadata": {
    "colab": {
     "base_uri": "https://localhost:8080/"
    },
    "id": "rsJFMo9_L9xC",
    "outputId": "78b25ebc-918f-4889-a460-ea09f07ee794",
    "scrolled": true
   },
   "outputs": [
    {
     "data": {
      "text/plain": [
       "price        1.058780e+06\n",
       "area         2.932350e+05\n",
       "length       5.391358e+02\n",
       "width        5.447339e+02\n",
       "bedrooms     2.965138e+00\n",
       "bathrooms    1.286239e+00\n",
       "stories      1.805505e+00\n",
       "parking      6.935780e-01\n",
       "dtype: float64"
      ]
     },
     "execution_count": 42,
     "metadata": {},
     "output_type": "execute_result"
    }
   ],
   "source": [
    "means"
   ]
  },
  {
   "cell_type": "markdown",
   "metadata": {},
   "source": [
    "### Standard Deviation"
   ]
  },
  {
   "cell_type": "code",
   "execution_count": 43,
   "metadata": {
    "colab": {
     "base_uri": "https://localhost:8080/"
    },
    "id": "qUX_VVjhMJL3",
    "outputId": "974b7eab-9274-446a-cead-f868cd29a2e0"
   },
   "outputs": [],
   "source": [
    "std_dev = np.std(df,axis=0)"
   ]
  },
  {
   "cell_type": "code",
   "execution_count": 44,
   "metadata": {
    "colab": {
     "base_uri": "https://localhost:8080/"
    },
    "id": "udPJnGxLMzKy",
    "outputId": "d73db110-fead-418b-9e56-89c75d0fb846",
    "scrolled": true
   },
   "outputs": [
    {
     "data": {
      "text/plain": [
       "price        666535.872108\n",
       "area         112923.692036\n",
       "length          148.218237\n",
       "width           144.442861\n",
       "bedrooms          0.737386\n",
       "bathrooms         0.502008\n",
       "stories           0.866696\n",
       "parking           0.860795\n",
       "dtype: float64"
      ]
     },
     "execution_count": 44,
     "metadata": {},
     "output_type": "execute_result"
    }
   ],
   "source": [
    "std_dev"
   ]
  },
  {
   "cell_type": "markdown",
   "metadata": {},
   "source": [
    "### Variance"
   ]
  },
  {
   "cell_type": "code",
   "execution_count": 45,
   "metadata": {
    "colab": {
     "base_uri": "https://localhost:8080/"
    },
    "id": "cJ7izoEuM-ph",
    "outputId": "59bcd0ad-25ad-4876-c761-acbd7b241682"
   },
   "outputs": [
    {
     "data": {
      "text/plain": [
       "price        4.442701e+11\n",
       "area         1.275176e+10\n",
       "length       2.196865e+04\n",
       "width        2.086374e+04\n",
       "bedrooms     5.437387e-01\n",
       "bathrooms    2.520125e-01\n",
       "stories      7.511624e-01\n",
       "parking      7.409679e-01\n",
       "dtype: float64"
      ]
     },
     "execution_count": 45,
     "metadata": {},
     "output_type": "execute_result"
    }
   ],
   "source": [
    "variance = std_dev**2\n",
    "variance"
   ]
  },
  {
   "cell_type": "code",
   "execution_count": 46,
   "metadata": {
    "colab": {
     "base_uri": "https://localhost:8080/",
     "height": 424
    },
    "id": "drxrt56DNJGx",
    "outputId": "94a3741e-d759-47b2-f473-19e7180ee862",
    "scrolled": true
   },
   "outputs": [
    {
     "data": {
      "text/html": [
       "<div>\n",
       "<style scoped>\n",
       "    .dataframe tbody tr th:only-of-type {\n",
       "        vertical-align: middle;\n",
       "    }\n",
       "\n",
       "    .dataframe tbody tr th {\n",
       "        vertical-align: top;\n",
       "    }\n",
       "\n",
       "    .dataframe thead th {\n",
       "        text-align: right;\n",
       "    }\n",
       "</style>\n",
       "<table border=\"1\" class=\"dataframe\">\n",
       "  <thead>\n",
       "    <tr style=\"text-align: right;\">\n",
       "      <th></th>\n",
       "      <th>price</th>\n",
       "      <th>area</th>\n",
       "      <th>length</th>\n",
       "      <th>width</th>\n",
       "      <th>bedrooms</th>\n",
       "      <th>bathrooms</th>\n",
       "      <th>stories</th>\n",
       "      <th>parking</th>\n",
       "    </tr>\n",
       "  </thead>\n",
       "  <tbody>\n",
       "    <tr>\n",
       "      <th>0</th>\n",
       "      <td>1465896</td>\n",
       "      <td>244316</td>\n",
       "      <td>593</td>\n",
       "      <td>412</td>\n",
       "      <td>4</td>\n",
       "      <td>2</td>\n",
       "      <td>3</td>\n",
       "      <td>2</td>\n",
       "    </tr>\n",
       "    <tr>\n",
       "      <th>1</th>\n",
       "      <td>3123904</td>\n",
       "      <td>390488</td>\n",
       "      <td>734</td>\n",
       "      <td>532</td>\n",
       "      <td>4</td>\n",
       "      <td>4</td>\n",
       "      <td>4</td>\n",
       "      <td>3</td>\n",
       "    </tr>\n",
       "    <tr>\n",
       "      <th>2</th>\n",
       "      <td>1519896</td>\n",
       "      <td>379974</td>\n",
       "      <td>498</td>\n",
       "      <td>763</td>\n",
       "      <td>3</td>\n",
       "      <td>2</td>\n",
       "      <td>2</td>\n",
       "      <td>2</td>\n",
       "    </tr>\n",
       "    <tr>\n",
       "      <th>3</th>\n",
       "      <td>1152112</td>\n",
       "      <td>288028</td>\n",
       "      <td>382</td>\n",
       "      <td>754</td>\n",
       "      <td>4</td>\n",
       "      <td>2</td>\n",
       "      <td>2</td>\n",
       "      <td>3</td>\n",
       "    </tr>\n",
       "    <tr>\n",
       "      <th>4</th>\n",
       "      <td>887292</td>\n",
       "      <td>221823</td>\n",
       "      <td>503</td>\n",
       "      <td>441</td>\n",
       "      <td>4</td>\n",
       "      <td>1</td>\n",
       "      <td>2</td>\n",
       "      <td>2</td>\n",
       "    </tr>\n",
       "    <tr>\n",
       "      <th>...</th>\n",
       "      <td>...</td>\n",
       "      <td>...</td>\n",
       "      <td>...</td>\n",
       "      <td>...</td>\n",
       "      <td>...</td>\n",
       "      <td>...</td>\n",
       "      <td>...</td>\n",
       "      <td>...</td>\n",
       "    </tr>\n",
       "    <tr>\n",
       "      <th>540</th>\n",
       "      <td>377880</td>\n",
       "      <td>188940</td>\n",
       "      <td>470</td>\n",
       "      <td>402</td>\n",
       "      <td>2</td>\n",
       "      <td>1</td>\n",
       "      <td>1</td>\n",
       "      <td>2</td>\n",
       "    </tr>\n",
       "    <tr>\n",
       "      <th>541</th>\n",
       "      <td>483084</td>\n",
       "      <td>241542</td>\n",
       "      <td>497</td>\n",
       "      <td>486</td>\n",
       "      <td>3</td>\n",
       "      <td>1</td>\n",
       "      <td>1</td>\n",
       "      <td>0</td>\n",
       "    </tr>\n",
       "    <tr>\n",
       "      <th>542</th>\n",
       "      <td>364276</td>\n",
       "      <td>182138</td>\n",
       "      <td>374</td>\n",
       "      <td>487</td>\n",
       "      <td>2</td>\n",
       "      <td>1</td>\n",
       "      <td>1</td>\n",
       "      <td>0</td>\n",
       "    </tr>\n",
       "    <tr>\n",
       "      <th>543</th>\n",
       "      <td>734160</td>\n",
       "      <td>367080</td>\n",
       "      <td>570</td>\n",
       "      <td>644</td>\n",
       "      <td>3</td>\n",
       "      <td>1</td>\n",
       "      <td>1</td>\n",
       "      <td>0</td>\n",
       "    </tr>\n",
       "    <tr>\n",
       "      <th>544</th>\n",
       "      <td>1625268</td>\n",
       "      <td>406317</td>\n",
       "      <td>527</td>\n",
       "      <td>771</td>\n",
       "      <td>3</td>\n",
       "      <td>1</td>\n",
       "      <td>2</td>\n",
       "      <td>0</td>\n",
       "    </tr>\n",
       "  </tbody>\n",
       "</table>\n",
       "<p>545 rows × 8 columns</p>\n",
       "</div>"
      ],
      "text/plain": [
       "       price    area  length  width  bedrooms  bathrooms  stories  parking\n",
       "0    1465896  244316     593    412         4          2        3        2\n",
       "1    3123904  390488     734    532         4          4        4        3\n",
       "2    1519896  379974     498    763         3          2        2        2\n",
       "3    1152112  288028     382    754         4          2        2        3\n",
       "4     887292  221823     503    441         4          1        2        2\n",
       "..       ...     ...     ...    ...       ...        ...      ...      ...\n",
       "540   377880  188940     470    402         2          1        1        2\n",
       "541   483084  241542     497    486         3          1        1        0\n",
       "542   364276  182138     374    487         2          1        1        0\n",
       "543   734160  367080     570    644         3          1        1        0\n",
       "544  1625268  406317     527    771         3          1        2        0\n",
       "\n",
       "[545 rows x 8 columns]"
      ]
     },
     "execution_count": 46,
     "metadata": {},
     "output_type": "execute_result"
    }
   ],
   "source": [
    "X = df.iloc[:,0:7]\n",
    "X[\"parking\"] = (df.iloc[:,12])\n",
    "X"
   ]
  },
  {
   "cell_type": "markdown",
   "metadata": {},
   "source": [
    "### Z SCORE"
   ]
  },
  {
   "cell_type": "code",
   "execution_count": 47,
   "metadata": {
    "id": "DmGpMKFlNRwQ"
   },
   "outputs": [],
   "source": [
    "X = X - means"
   ]
  },
  {
   "cell_type": "code",
   "execution_count": 48,
   "metadata": {
    "colab": {
     "base_uri": "https://localhost:8080/",
     "height": 424
    },
    "id": "3s9GuCFiOYgO",
    "outputId": "0cf310b9-a650-4163-9ec9-954ad4040fe5"
   },
   "outputs": [
    {
     "data": {
      "text/html": [
       "<div>\n",
       "<style scoped>\n",
       "    .dataframe tbody tr th:only-of-type {\n",
       "        vertical-align: middle;\n",
       "    }\n",
       "\n",
       "    .dataframe tbody tr th {\n",
       "        vertical-align: top;\n",
       "    }\n",
       "\n",
       "    .dataframe thead th {\n",
       "        text-align: right;\n",
       "    }\n",
       "</style>\n",
       "<table border=\"1\" class=\"dataframe\">\n",
       "  <thead>\n",
       "    <tr style=\"text-align: right;\">\n",
       "      <th></th>\n",
       "      <th>price</th>\n",
       "      <th>area</th>\n",
       "      <th>length</th>\n",
       "      <th>width</th>\n",
       "      <th>bedrooms</th>\n",
       "      <th>bathrooms</th>\n",
       "      <th>stories</th>\n",
       "      <th>parking</th>\n",
       "    </tr>\n",
       "  </thead>\n",
       "  <tbody>\n",
       "    <tr>\n",
       "      <th>0</th>\n",
       "      <td>4.071161e+05</td>\n",
       "      <td>-48918.972477</td>\n",
       "      <td>53.86422</td>\n",
       "      <td>-132.733945</td>\n",
       "      <td>1.034862</td>\n",
       "      <td>0.713761</td>\n",
       "      <td>1.194495</td>\n",
       "      <td>1.306422</td>\n",
       "    </tr>\n",
       "    <tr>\n",
       "      <th>1</th>\n",
       "      <td>2.065124e+06</td>\n",
       "      <td>97253.027523</td>\n",
       "      <td>194.86422</td>\n",
       "      <td>-12.733945</td>\n",
       "      <td>1.034862</td>\n",
       "      <td>2.713761</td>\n",
       "      <td>2.194495</td>\n",
       "      <td>2.306422</td>\n",
       "    </tr>\n",
       "    <tr>\n",
       "      <th>2</th>\n",
       "      <td>4.611161e+05</td>\n",
       "      <td>86739.027523</td>\n",
       "      <td>-41.13578</td>\n",
       "      <td>218.266055</td>\n",
       "      <td>0.034862</td>\n",
       "      <td>0.713761</td>\n",
       "      <td>0.194495</td>\n",
       "      <td>1.306422</td>\n",
       "    </tr>\n",
       "    <tr>\n",
       "      <th>3</th>\n",
       "      <td>9.333213e+04</td>\n",
       "      <td>-5206.972477</td>\n",
       "      <td>-157.13578</td>\n",
       "      <td>209.266055</td>\n",
       "      <td>1.034862</td>\n",
       "      <td>0.713761</td>\n",
       "      <td>0.194495</td>\n",
       "      <td>2.306422</td>\n",
       "    </tr>\n",
       "    <tr>\n",
       "      <th>4</th>\n",
       "      <td>-1.714879e+05</td>\n",
       "      <td>-71411.972477</td>\n",
       "      <td>-36.13578</td>\n",
       "      <td>-103.733945</td>\n",
       "      <td>1.034862</td>\n",
       "      <td>-0.286239</td>\n",
       "      <td>0.194495</td>\n",
       "      <td>1.306422</td>\n",
       "    </tr>\n",
       "    <tr>\n",
       "      <th>...</th>\n",
       "      <td>...</td>\n",
       "      <td>...</td>\n",
       "      <td>...</td>\n",
       "      <td>...</td>\n",
       "      <td>...</td>\n",
       "      <td>...</td>\n",
       "      <td>...</td>\n",
       "      <td>...</td>\n",
       "    </tr>\n",
       "    <tr>\n",
       "      <th>540</th>\n",
       "      <td>-6.808999e+05</td>\n",
       "      <td>-104294.972477</td>\n",
       "      <td>-69.13578</td>\n",
       "      <td>-142.733945</td>\n",
       "      <td>-0.965138</td>\n",
       "      <td>-0.286239</td>\n",
       "      <td>-0.805505</td>\n",
       "      <td>1.306422</td>\n",
       "    </tr>\n",
       "    <tr>\n",
       "      <th>541</th>\n",
       "      <td>-5.756959e+05</td>\n",
       "      <td>-51692.972477</td>\n",
       "      <td>-42.13578</td>\n",
       "      <td>-58.733945</td>\n",
       "      <td>0.034862</td>\n",
       "      <td>-0.286239</td>\n",
       "      <td>-0.805505</td>\n",
       "      <td>-0.693578</td>\n",
       "    </tr>\n",
       "    <tr>\n",
       "      <th>542</th>\n",
       "      <td>-6.945039e+05</td>\n",
       "      <td>-111096.972477</td>\n",
       "      <td>-165.13578</td>\n",
       "      <td>-57.733945</td>\n",
       "      <td>-0.965138</td>\n",
       "      <td>-0.286239</td>\n",
       "      <td>-0.805505</td>\n",
       "      <td>-0.693578</td>\n",
       "    </tr>\n",
       "    <tr>\n",
       "      <th>543</th>\n",
       "      <td>-3.246199e+05</td>\n",
       "      <td>73845.027523</td>\n",
       "      <td>30.86422</td>\n",
       "      <td>99.266055</td>\n",
       "      <td>0.034862</td>\n",
       "      <td>-0.286239</td>\n",
       "      <td>-0.805505</td>\n",
       "      <td>-0.693578</td>\n",
       "    </tr>\n",
       "    <tr>\n",
       "      <th>544</th>\n",
       "      <td>5.664881e+05</td>\n",
       "      <td>113082.027523</td>\n",
       "      <td>-12.13578</td>\n",
       "      <td>226.266055</td>\n",
       "      <td>0.034862</td>\n",
       "      <td>-0.286239</td>\n",
       "      <td>0.194495</td>\n",
       "      <td>-0.693578</td>\n",
       "    </tr>\n",
       "  </tbody>\n",
       "</table>\n",
       "<p>545 rows × 8 columns</p>\n",
       "</div>"
      ],
      "text/plain": [
       "            price           area     length       width  bedrooms  bathrooms  \\\n",
       "0    4.071161e+05  -48918.972477   53.86422 -132.733945  1.034862   0.713761   \n",
       "1    2.065124e+06   97253.027523  194.86422  -12.733945  1.034862   2.713761   \n",
       "2    4.611161e+05   86739.027523  -41.13578  218.266055  0.034862   0.713761   \n",
       "3    9.333213e+04   -5206.972477 -157.13578  209.266055  1.034862   0.713761   \n",
       "4   -1.714879e+05  -71411.972477  -36.13578 -103.733945  1.034862  -0.286239   \n",
       "..            ...            ...        ...         ...       ...        ...   \n",
       "540 -6.808999e+05 -104294.972477  -69.13578 -142.733945 -0.965138  -0.286239   \n",
       "541 -5.756959e+05  -51692.972477  -42.13578  -58.733945  0.034862  -0.286239   \n",
       "542 -6.945039e+05 -111096.972477 -165.13578  -57.733945 -0.965138  -0.286239   \n",
       "543 -3.246199e+05   73845.027523   30.86422   99.266055  0.034862  -0.286239   \n",
       "544  5.664881e+05  113082.027523  -12.13578  226.266055  0.034862  -0.286239   \n",
       "\n",
       "      stories   parking  \n",
       "0    1.194495  1.306422  \n",
       "1    2.194495  2.306422  \n",
       "2    0.194495  1.306422  \n",
       "3    0.194495  2.306422  \n",
       "4    0.194495  1.306422  \n",
       "..        ...       ...  \n",
       "540 -0.805505  1.306422  \n",
       "541 -0.805505 -0.693578  \n",
       "542 -0.805505 -0.693578  \n",
       "543 -0.805505 -0.693578  \n",
       "544  0.194495 -0.693578  \n",
       "\n",
       "[545 rows x 8 columns]"
      ]
     },
     "execution_count": 48,
     "metadata": {},
     "output_type": "execute_result"
    }
   ],
   "source": [
    "X"
   ]
  },
  {
   "cell_type": "code",
   "execution_count": 49,
   "metadata": {
    "id": "j4XoBqDwOZEC"
   },
   "outputs": [],
   "source": [
    "Z_score = X/std_dev"
   ]
  },
  {
   "cell_type": "code",
   "execution_count": 50,
   "metadata": {
    "colab": {
     "base_uri": "https://localhost:8080/",
     "height": 424
    },
    "id": "Ku2LfWdwOfcO",
    "outputId": "bbc2970a-ecb6-4a64-caca-53100ff457e1"
   },
   "outputs": [
    {
     "data": {
      "text/html": [
       "<div>\n",
       "<style scoped>\n",
       "    .dataframe tbody tr th:only-of-type {\n",
       "        vertical-align: middle;\n",
       "    }\n",
       "\n",
       "    .dataframe tbody tr th {\n",
       "        vertical-align: top;\n",
       "    }\n",
       "\n",
       "    .dataframe thead th {\n",
       "        text-align: right;\n",
       "    }\n",
       "</style>\n",
       "<table border=\"1\" class=\"dataframe\">\n",
       "  <thead>\n",
       "    <tr style=\"text-align: right;\">\n",
       "      <th></th>\n",
       "      <th>price</th>\n",
       "      <th>area</th>\n",
       "      <th>length</th>\n",
       "      <th>width</th>\n",
       "      <th>bedrooms</th>\n",
       "      <th>bathrooms</th>\n",
       "      <th>stories</th>\n",
       "      <th>parking</th>\n",
       "    </tr>\n",
       "  </thead>\n",
       "  <tbody>\n",
       "    <tr>\n",
       "      <th>0</th>\n",
       "      <td>0.610794</td>\n",
       "      <td>-0.433204</td>\n",
       "      <td>0.363412</td>\n",
       "      <td>-0.918937</td>\n",
       "      <td>1.403419</td>\n",
       "      <td>1.421812</td>\n",
       "      <td>1.378217</td>\n",
       "      <td>1.517692</td>\n",
       "    </tr>\n",
       "    <tr>\n",
       "      <th>1</th>\n",
       "      <td>3.098294</td>\n",
       "      <td>0.861228</td>\n",
       "      <td>1.314711</td>\n",
       "      <td>-0.088159</td>\n",
       "      <td>1.403419</td>\n",
       "      <td>5.405809</td>\n",
       "      <td>2.532024</td>\n",
       "      <td>2.679409</td>\n",
       "    </tr>\n",
       "    <tr>\n",
       "      <th>2</th>\n",
       "      <td>0.691810</td>\n",
       "      <td>0.768121</td>\n",
       "      <td>-0.277535</td>\n",
       "      <td>1.511089</td>\n",
       "      <td>0.047278</td>\n",
       "      <td>1.421812</td>\n",
       "      <td>0.224410</td>\n",
       "      <td>1.517692</td>\n",
       "    </tr>\n",
       "    <tr>\n",
       "      <th>3</th>\n",
       "      <td>0.140026</td>\n",
       "      <td>-0.046111</td>\n",
       "      <td>-1.060165</td>\n",
       "      <td>1.448781</td>\n",
       "      <td>1.403419</td>\n",
       "      <td>1.421812</td>\n",
       "      <td>0.224410</td>\n",
       "      <td>2.679409</td>\n",
       "    </tr>\n",
       "    <tr>\n",
       "      <th>4</th>\n",
       "      <td>-0.257282</td>\n",
       "      <td>-0.632391</td>\n",
       "      <td>-0.243801</td>\n",
       "      <td>-0.718166</td>\n",
       "      <td>1.403419</td>\n",
       "      <td>-0.570187</td>\n",
       "      <td>0.224410</td>\n",
       "      <td>1.517692</td>\n",
       "    </tr>\n",
       "    <tr>\n",
       "      <th>...</th>\n",
       "      <td>...</td>\n",
       "      <td>...</td>\n",
       "      <td>...</td>\n",
       "      <td>...</td>\n",
       "      <td>...</td>\n",
       "      <td>...</td>\n",
       "      <td>...</td>\n",
       "      <td>...</td>\n",
       "    </tr>\n",
       "    <tr>\n",
       "      <th>540</th>\n",
       "      <td>-1.021550</td>\n",
       "      <td>-0.923588</td>\n",
       "      <td>-0.466446</td>\n",
       "      <td>-0.988169</td>\n",
       "      <td>-1.308863</td>\n",
       "      <td>-0.570187</td>\n",
       "      <td>-0.929397</td>\n",
       "      <td>1.517692</td>\n",
       "    </tr>\n",
       "    <tr>\n",
       "      <th>541</th>\n",
       "      <td>-0.863713</td>\n",
       "      <td>-0.457769</td>\n",
       "      <td>-0.284282</td>\n",
       "      <td>-0.406624</td>\n",
       "      <td>0.047278</td>\n",
       "      <td>-0.570187</td>\n",
       "      <td>-0.929397</td>\n",
       "      <td>-0.805741</td>\n",
       "    </tr>\n",
       "    <tr>\n",
       "      <th>542</th>\n",
       "      <td>-1.041960</td>\n",
       "      <td>-0.983823</td>\n",
       "      <td>-1.114139</td>\n",
       "      <td>-0.399701</td>\n",
       "      <td>-1.308863</td>\n",
       "      <td>-0.570187</td>\n",
       "      <td>-0.929397</td>\n",
       "      <td>-0.805741</td>\n",
       "    </tr>\n",
       "    <tr>\n",
       "      <th>543</th>\n",
       "      <td>-0.487025</td>\n",
       "      <td>0.653937</td>\n",
       "      <td>0.208235</td>\n",
       "      <td>0.687234</td>\n",
       "      <td>0.047278</td>\n",
       "      <td>-0.570187</td>\n",
       "      <td>-0.929397</td>\n",
       "      <td>-0.805741</td>\n",
       "    </tr>\n",
       "    <tr>\n",
       "      <th>544</th>\n",
       "      <td>0.849899</td>\n",
       "      <td>1.001402</td>\n",
       "      <td>-0.081878</td>\n",
       "      <td>1.566474</td>\n",
       "      <td>0.047278</td>\n",
       "      <td>-0.570187</td>\n",
       "      <td>0.224410</td>\n",
       "      <td>-0.805741</td>\n",
       "    </tr>\n",
       "  </tbody>\n",
       "</table>\n",
       "<p>545 rows × 8 columns</p>\n",
       "</div>"
      ],
      "text/plain": [
       "        price      area    length     width  bedrooms  bathrooms   stories  \\\n",
       "0    0.610794 -0.433204  0.363412 -0.918937  1.403419   1.421812  1.378217   \n",
       "1    3.098294  0.861228  1.314711 -0.088159  1.403419   5.405809  2.532024   \n",
       "2    0.691810  0.768121 -0.277535  1.511089  0.047278   1.421812  0.224410   \n",
       "3    0.140026 -0.046111 -1.060165  1.448781  1.403419   1.421812  0.224410   \n",
       "4   -0.257282 -0.632391 -0.243801 -0.718166  1.403419  -0.570187  0.224410   \n",
       "..        ...       ...       ...       ...       ...        ...       ...   \n",
       "540 -1.021550 -0.923588 -0.466446 -0.988169 -1.308863  -0.570187 -0.929397   \n",
       "541 -0.863713 -0.457769 -0.284282 -0.406624  0.047278  -0.570187 -0.929397   \n",
       "542 -1.041960 -0.983823 -1.114139 -0.399701 -1.308863  -0.570187 -0.929397   \n",
       "543 -0.487025  0.653937  0.208235  0.687234  0.047278  -0.570187 -0.929397   \n",
       "544  0.849899  1.001402 -0.081878  1.566474  0.047278  -0.570187  0.224410   \n",
       "\n",
       "      parking  \n",
       "0    1.517692  \n",
       "1    2.679409  \n",
       "2    1.517692  \n",
       "3    2.679409  \n",
       "4    1.517692  \n",
       "..        ...  \n",
       "540  1.517692  \n",
       "541 -0.805741  \n",
       "542 -0.805741  \n",
       "543 -0.805741  \n",
       "544 -0.805741  \n",
       "\n",
       "[545 rows x 8 columns]"
      ]
     },
     "execution_count": 50,
     "metadata": {},
     "output_type": "execute_result"
    }
   ],
   "source": [
    "Z_score"
   ]
  },
  {
   "cell_type": "markdown",
   "metadata": {
    "id": "gKa0TTfjPYvu"
   },
   "source": [
    "## KNN Classifier"
   ]
  },
  {
   "cell_type": "code",
   "execution_count": 51,
   "metadata": {
    "id": "RYK0JxqdRlmb"
   },
   "outputs": [],
   "source": [
    "from sklearn.preprocessing import LabelEncoder\n",
    "\n",
    "le = LabelEncoder()\n",
    "Y = le.fit_transform(df['furnishingstatus'])\n",
    "df.mainroad = le.fit_transform(df['mainroad'])\n",
    "df.guestroom = le.fit_transform(df['guestroom'])\n",
    "df.basement = le.fit_transform(df['basement'])\n",
    "df.hotwaterheating = le.fit_transform(df['hotwaterheating'])\n",
    "df.prefarea = le.fit_transform(df['prefarea'])\n",
    "df.airconditioning = le.fit_transform(df['airconditioning'])"
   ]
  },
  {
   "cell_type": "code",
   "execution_count": 52,
   "metadata": {
    "id": "WNhJjAnvPbIv"
   },
   "outputs": [],
   "source": [
    "X = df.iloc[:,:-1]"
   ]
  },
  {
   "cell_type": "code",
   "execution_count": 53,
   "metadata": {
    "colab": {
     "base_uri": "https://localhost:8080/",
     "height": 424
    },
    "id": "Uo3x1zA7SRcJ",
    "outputId": "0d1eba80-77b0-4743-8fae-62b6b75230a3"
   },
   "outputs": [
    {
     "data": {
      "text/html": [
       "<div>\n",
       "<style scoped>\n",
       "    .dataframe tbody tr th:only-of-type {\n",
       "        vertical-align: middle;\n",
       "    }\n",
       "\n",
       "    .dataframe tbody tr th {\n",
       "        vertical-align: top;\n",
       "    }\n",
       "\n",
       "    .dataframe thead th {\n",
       "        text-align: right;\n",
       "    }\n",
       "</style>\n",
       "<table border=\"1\" class=\"dataframe\">\n",
       "  <thead>\n",
       "    <tr style=\"text-align: right;\">\n",
       "      <th></th>\n",
       "      <th>price</th>\n",
       "      <th>area</th>\n",
       "      <th>length</th>\n",
       "      <th>width</th>\n",
       "      <th>bedrooms</th>\n",
       "      <th>bathrooms</th>\n",
       "      <th>stories</th>\n",
       "      <th>mainroad</th>\n",
       "      <th>guestroom</th>\n",
       "      <th>basement</th>\n",
       "      <th>hotwaterheating</th>\n",
       "      <th>airconditioning</th>\n",
       "      <th>parking</th>\n",
       "      <th>prefarea</th>\n",
       "    </tr>\n",
       "  </thead>\n",
       "  <tbody>\n",
       "    <tr>\n",
       "      <th>0</th>\n",
       "      <td>1465896</td>\n",
       "      <td>244316</td>\n",
       "      <td>593</td>\n",
       "      <td>412</td>\n",
       "      <td>4</td>\n",
       "      <td>2</td>\n",
       "      <td>3</td>\n",
       "      <td>1</td>\n",
       "      <td>0</td>\n",
       "      <td>0</td>\n",
       "      <td>0</td>\n",
       "      <td>1</td>\n",
       "      <td>2</td>\n",
       "      <td>1</td>\n",
       "    </tr>\n",
       "    <tr>\n",
       "      <th>1</th>\n",
       "      <td>3123904</td>\n",
       "      <td>390488</td>\n",
       "      <td>734</td>\n",
       "      <td>532</td>\n",
       "      <td>4</td>\n",
       "      <td>4</td>\n",
       "      <td>4</td>\n",
       "      <td>1</td>\n",
       "      <td>0</td>\n",
       "      <td>0</td>\n",
       "      <td>0</td>\n",
       "      <td>1</td>\n",
       "      <td>3</td>\n",
       "      <td>0</td>\n",
       "    </tr>\n",
       "    <tr>\n",
       "      <th>2</th>\n",
       "      <td>1519896</td>\n",
       "      <td>379974</td>\n",
       "      <td>498</td>\n",
       "      <td>763</td>\n",
       "      <td>3</td>\n",
       "      <td>2</td>\n",
       "      <td>2</td>\n",
       "      <td>1</td>\n",
       "      <td>0</td>\n",
       "      <td>1</td>\n",
       "      <td>0</td>\n",
       "      <td>0</td>\n",
       "      <td>2</td>\n",
       "      <td>1</td>\n",
       "    </tr>\n",
       "    <tr>\n",
       "      <th>3</th>\n",
       "      <td>1152112</td>\n",
       "      <td>288028</td>\n",
       "      <td>382</td>\n",
       "      <td>754</td>\n",
       "      <td>4</td>\n",
       "      <td>2</td>\n",
       "      <td>2</td>\n",
       "      <td>1</td>\n",
       "      <td>0</td>\n",
       "      <td>1</td>\n",
       "      <td>0</td>\n",
       "      <td>1</td>\n",
       "      <td>3</td>\n",
       "      <td>1</td>\n",
       "    </tr>\n",
       "    <tr>\n",
       "      <th>4</th>\n",
       "      <td>887292</td>\n",
       "      <td>221823</td>\n",
       "      <td>503</td>\n",
       "      <td>441</td>\n",
       "      <td>4</td>\n",
       "      <td>1</td>\n",
       "      <td>2</td>\n",
       "      <td>1</td>\n",
       "      <td>1</td>\n",
       "      <td>1</td>\n",
       "      <td>0</td>\n",
       "      <td>1</td>\n",
       "      <td>2</td>\n",
       "      <td>0</td>\n",
       "    </tr>\n",
       "    <tr>\n",
       "      <th>...</th>\n",
       "      <td>...</td>\n",
       "      <td>...</td>\n",
       "      <td>...</td>\n",
       "      <td>...</td>\n",
       "      <td>...</td>\n",
       "      <td>...</td>\n",
       "      <td>...</td>\n",
       "      <td>...</td>\n",
       "      <td>...</td>\n",
       "      <td>...</td>\n",
       "      <td>...</td>\n",
       "      <td>...</td>\n",
       "      <td>...</td>\n",
       "      <td>...</td>\n",
       "    </tr>\n",
       "    <tr>\n",
       "      <th>540</th>\n",
       "      <td>377880</td>\n",
       "      <td>188940</td>\n",
       "      <td>470</td>\n",
       "      <td>402</td>\n",
       "      <td>2</td>\n",
       "      <td>1</td>\n",
       "      <td>1</td>\n",
       "      <td>1</td>\n",
       "      <td>0</td>\n",
       "      <td>1</td>\n",
       "      <td>0</td>\n",
       "      <td>0</td>\n",
       "      <td>2</td>\n",
       "      <td>0</td>\n",
       "    </tr>\n",
       "    <tr>\n",
       "      <th>541</th>\n",
       "      <td>483084</td>\n",
       "      <td>241542</td>\n",
       "      <td>497</td>\n",
       "      <td>486</td>\n",
       "      <td>3</td>\n",
       "      <td>1</td>\n",
       "      <td>1</td>\n",
       "      <td>0</td>\n",
       "      <td>0</td>\n",
       "      <td>0</td>\n",
       "      <td>0</td>\n",
       "      <td>0</td>\n",
       "      <td>0</td>\n",
       "      <td>0</td>\n",
       "    </tr>\n",
       "    <tr>\n",
       "      <th>542</th>\n",
       "      <td>364276</td>\n",
       "      <td>182138</td>\n",
       "      <td>374</td>\n",
       "      <td>487</td>\n",
       "      <td>2</td>\n",
       "      <td>1</td>\n",
       "      <td>1</td>\n",
       "      <td>1</td>\n",
       "      <td>0</td>\n",
       "      <td>0</td>\n",
       "      <td>0</td>\n",
       "      <td>0</td>\n",
       "      <td>0</td>\n",
       "      <td>0</td>\n",
       "    </tr>\n",
       "    <tr>\n",
       "      <th>543</th>\n",
       "      <td>734160</td>\n",
       "      <td>367080</td>\n",
       "      <td>570</td>\n",
       "      <td>644</td>\n",
       "      <td>3</td>\n",
       "      <td>1</td>\n",
       "      <td>1</td>\n",
       "      <td>0</td>\n",
       "      <td>0</td>\n",
       "      <td>0</td>\n",
       "      <td>0</td>\n",
       "      <td>0</td>\n",
       "      <td>0</td>\n",
       "      <td>0</td>\n",
       "    </tr>\n",
       "    <tr>\n",
       "      <th>544</th>\n",
       "      <td>1625268</td>\n",
       "      <td>406317</td>\n",
       "      <td>527</td>\n",
       "      <td>771</td>\n",
       "      <td>3</td>\n",
       "      <td>1</td>\n",
       "      <td>2</td>\n",
       "      <td>1</td>\n",
       "      <td>0</td>\n",
       "      <td>0</td>\n",
       "      <td>0</td>\n",
       "      <td>0</td>\n",
       "      <td>0</td>\n",
       "      <td>0</td>\n",
       "    </tr>\n",
       "  </tbody>\n",
       "</table>\n",
       "<p>545 rows × 14 columns</p>\n",
       "</div>"
      ],
      "text/plain": [
       "       price    area  length  width  bedrooms  bathrooms  stories  mainroad  \\\n",
       "0    1465896  244316     593    412         4          2        3         1   \n",
       "1    3123904  390488     734    532         4          4        4         1   \n",
       "2    1519896  379974     498    763         3          2        2         1   \n",
       "3    1152112  288028     382    754         4          2        2         1   \n",
       "4     887292  221823     503    441         4          1        2         1   \n",
       "..       ...     ...     ...    ...       ...        ...      ...       ...   \n",
       "540   377880  188940     470    402         2          1        1         1   \n",
       "541   483084  241542     497    486         3          1        1         0   \n",
       "542   364276  182138     374    487         2          1        1         1   \n",
       "543   734160  367080     570    644         3          1        1         0   \n",
       "544  1625268  406317     527    771         3          1        2         1   \n",
       "\n",
       "     guestroom  basement  hotwaterheating  airconditioning  parking  prefarea  \n",
       "0            0         0                0                1        2         1  \n",
       "1            0         0                0                1        3         0  \n",
       "2            0         1                0                0        2         1  \n",
       "3            0         1                0                1        3         1  \n",
       "4            1         1                0                1        2         0  \n",
       "..         ...       ...              ...              ...      ...       ...  \n",
       "540          0         1                0                0        2         0  \n",
       "541          0         0                0                0        0         0  \n",
       "542          0         0                0                0        0         0  \n",
       "543          0         0                0                0        0         0  \n",
       "544          0         0                0                0        0         0  \n",
       "\n",
       "[545 rows x 14 columns]"
      ]
     },
     "execution_count": 53,
     "metadata": {},
     "output_type": "execute_result"
    }
   ],
   "source": [
    "X"
   ]
  },
  {
   "cell_type": "code",
   "execution_count": 54,
   "metadata": {
    "id": "Y-vY4dtVQloa"
   },
   "outputs": [],
   "source": [
    "from sklearn.model_selection import train_test_split\n",
    "\n",
    "X_train, X_test, y_train, y_test = train_test_split(X,Y,test_size=0.2,random_state=0)"
   ]
  },
  {
   "cell_type": "code",
   "execution_count": 55,
   "metadata": {
    "colab": {
     "base_uri": "https://localhost:8080/"
    },
    "id": "5pHUGS2EREg6",
    "outputId": "60d56110-a443-4405-b1a3-f0827f905400"
   },
   "outputs": [
    {
     "data": {
      "text/plain": [
       "KNeighborsClassifier()"
      ]
     },
     "execution_count": 55,
     "metadata": {},
     "output_type": "execute_result"
    }
   ],
   "source": [
    "from sklearn.neighbors import KNeighborsClassifier  \n",
    "\n",
    "KNN = KNeighborsClassifier(n_neighbors=5, p=2 )  \n",
    "KNN.fit(X_train, y_train)  "
   ]
  },
  {
   "cell_type": "code",
   "execution_count": 56,
   "metadata": {
    "id": "OPw393KZRghb"
   },
   "outputs": [],
   "source": [
    "y_pred = KNN.predict(X_test)  "
   ]
  },
  {
   "cell_type": "code",
   "execution_count": 57,
   "metadata": {
    "colab": {
     "base_uri": "https://localhost:8080/"
    },
    "id": "4Hk4nYheS006",
    "outputId": "38313efa-b65c-43e7-96a7-99cedbf0887e"
   },
   "outputs": [
    {
     "data": {
      "text/plain": [
       "array([2, 2, 0, 1, 1, 1, 1, 0, 1, 0, 1, 1, 1, 1, 1, 2, 0, 1, 0, 2, 0, 2,\n",
       "       1, 0, 2, 1, 0, 1, 2, 0, 2, 1, 1, 1, 1, 1, 1, 1, 1, 1, 0, 1, 1, 1,\n",
       "       1, 0, 1, 2, 1, 0, 0, 1, 1, 1, 1, 1, 1, 0, 2, 1, 1, 1, 0, 0, 2, 1,\n",
       "       1, 2, 2, 1, 1, 1, 1, 1, 1, 1, 0, 1, 2, 1, 1, 1, 1, 1, 2, 1, 1, 0,\n",
       "       1, 2, 1, 2, 2, 2, 1, 1, 1, 1, 2, 2, 1, 1, 0, 0, 1, 2, 1, 0, 1])"
      ]
     },
     "execution_count": 57,
     "metadata": {},
     "output_type": "execute_result"
    }
   ],
   "source": [
    "y_pred"
   ]
  },
  {
   "cell_type": "code",
   "execution_count": 58,
   "metadata": {
    "colab": {
     "base_uri": "https://localhost:8080/"
    },
    "id": "5rmaDfIJS3sH",
    "outputId": "116fd974-0acd-4e6c-affc-f571dfc19f1c"
   },
   "outputs": [
    {
     "name": "stdout",
     "output_type": "stream",
     "text": [
      "31.048538482166798\n",
      "36.69724770642202\n"
     ]
    }
   ],
   "source": [
    "from sklearn.metrics import f1_score,accuracy_score\n",
    "\n",
    "print(f1_score(y_test, y_pred, average='macro')*100)\n",
    "print(accuracy_score(y_test, y_pred)*100)"
   ]
  },
  {
   "cell_type": "markdown",
   "metadata": {
    "id": "T_3qpzy-TwlO"
   },
   "source": [
    "# Normalize"
   ]
  },
  {
   "cell_type": "markdown",
   "metadata": {
    "id": "sEdYaU-wVELX"
   },
   "source": [
    "### Unit normalization"
   ]
  },
  {
   "cell_type": "code",
   "execution_count": 59,
   "metadata": {
    "id": "ldbG0GZ4TLPJ"
   },
   "outputs": [],
   "source": [
    "range = X.price.max() - X.price.min()\n",
    "X['price'] = X['price'] - X.price.min()\n",
    "X['price'] /= range"
   ]
  },
  {
   "cell_type": "code",
   "execution_count": 60,
   "metadata": {
    "id": "aPsW6zUDWDf8"
   },
   "outputs": [],
   "source": [
    "range = X.area.max() - X.area.min()\n",
    "X['area'] = X['area'] - X.area.min()\n",
    "X['area'] /= range"
   ]
  },
  {
   "cell_type": "code",
   "execution_count": 61,
   "metadata": {
    "id": "RC0Km6C8W0lY"
   },
   "outputs": [],
   "source": [
    "range = X.length.max() - X.length.min()\n",
    "X['length'] = X['length'] - X.length.min()\n",
    "X['length'] /= range"
   ]
  },
  {
   "cell_type": "code",
   "execution_count": 62,
   "metadata": {
    "id": "bYBFrP1GW_CU"
   },
   "outputs": [],
   "source": [
    "range = X.width.max() - X.width.min()\n",
    "X['width'] = X['width'] - X.width.min()\n",
    "X['width'] /= range"
   ]
  },
  {
   "cell_type": "code",
   "execution_count": 63,
   "metadata": {
    "id": "PMgyRZUhXDBR"
   },
   "outputs": [],
   "source": [
    "range = X.bedrooms.max() - X.bedrooms.min()\n",
    "X['bedrooms'] = X['bedrooms'] - X.bedrooms.min()\n",
    "X['bedrooms'] /= range"
   ]
  },
  {
   "cell_type": "code",
   "execution_count": 64,
   "metadata": {
    "id": "YGjC-TxUXQ4C"
   },
   "outputs": [],
   "source": [
    "range = X.bathrooms.max() - X.bathrooms.min()\n",
    "X['bathrooms'] = X['bathrooms'] - X.bathrooms.min()\n",
    "X['bathrooms'] /= range"
   ]
  },
  {
   "cell_type": "code",
   "execution_count": 65,
   "metadata": {
    "id": "HDbrfDRwXZFx"
   },
   "outputs": [],
   "source": [
    "range = X.stories.max() - X.stories.min()\n",
    "X['stories'] = X['stories'] - X.stories.min()\n",
    "X['stories'] /= range"
   ]
  },
  {
   "cell_type": "code",
   "execution_count": 66,
   "metadata": {
    "id": "XsbOHrNUXe9Q"
   },
   "outputs": [],
   "source": [
    "range = X.parking.max() - X.parking.min()\n",
    "X['parking'] = X['parking'] - X.parking.min()\n",
    "X['parking'] /= range"
   ]
  },
  {
   "cell_type": "code",
   "execution_count": 67,
   "metadata": {
    "colab": {
     "base_uri": "https://localhost:8080/",
     "height": 424
    },
    "id": "my2L6GHMXii9",
    "outputId": "85886af6-fb39-4c4e-acc6-42b5e488a0bd"
   },
   "outputs": [
    {
     "data": {
      "text/html": [
       "<div>\n",
       "<style scoped>\n",
       "    .dataframe tbody tr th:only-of-type {\n",
       "        vertical-align: middle;\n",
       "    }\n",
       "\n",
       "    .dataframe tbody tr th {\n",
       "        vertical-align: top;\n",
       "    }\n",
       "\n",
       "    .dataframe thead th {\n",
       "        text-align: right;\n",
       "    }\n",
       "</style>\n",
       "<table border=\"1\" class=\"dataframe\">\n",
       "  <thead>\n",
       "    <tr style=\"text-align: right;\">\n",
       "      <th></th>\n",
       "      <th>price</th>\n",
       "      <th>area</th>\n",
       "      <th>length</th>\n",
       "      <th>width</th>\n",
       "      <th>bedrooms</th>\n",
       "      <th>bathrooms</th>\n",
       "      <th>stories</th>\n",
       "      <th>mainroad</th>\n",
       "      <th>guestroom</th>\n",
       "      <th>basement</th>\n",
       "      <th>hotwaterheating</th>\n",
       "      <th>airconditioning</th>\n",
       "      <th>parking</th>\n",
       "      <th>prefarea</th>\n",
       "    </tr>\n",
       "  </thead>\n",
       "  <tbody>\n",
       "    <tr>\n",
       "      <th>0</th>\n",
       "      <td>0.287069</td>\n",
       "      <td>0.288093</td>\n",
       "      <td>0.586</td>\n",
       "      <td>0.224</td>\n",
       "      <td>0.6</td>\n",
       "      <td>0.333333</td>\n",
       "      <td>0.666667</td>\n",
       "      <td>1</td>\n",
       "      <td>0</td>\n",
       "      <td>0</td>\n",
       "      <td>0</td>\n",
       "      <td>1</td>\n",
       "      <td>0.666667</td>\n",
       "      <td>1</td>\n",
       "    </tr>\n",
       "    <tr>\n",
       "      <th>1</th>\n",
       "      <td>0.663195</td>\n",
       "      <td>0.569795</td>\n",
       "      <td>0.868</td>\n",
       "      <td>0.464</td>\n",
       "      <td>0.6</td>\n",
       "      <td>1.000000</td>\n",
       "      <td>1.000000</td>\n",
       "      <td>1</td>\n",
       "      <td>0</td>\n",
       "      <td>0</td>\n",
       "      <td>0</td>\n",
       "      <td>1</td>\n",
       "      <td>1.000000</td>\n",
       "      <td>0</td>\n",
       "    </tr>\n",
       "    <tr>\n",
       "      <th>2</th>\n",
       "      <td>0.299319</td>\n",
       "      <td>0.549533</td>\n",
       "      <td>0.396</td>\n",
       "      <td>0.926</td>\n",
       "      <td>0.4</td>\n",
       "      <td>0.333333</td>\n",
       "      <td>0.333333</td>\n",
       "      <td>1</td>\n",
       "      <td>0</td>\n",
       "      <td>1</td>\n",
       "      <td>0</td>\n",
       "      <td>0</td>\n",
       "      <td>0.666667</td>\n",
       "      <td>1</td>\n",
       "    </tr>\n",
       "    <tr>\n",
       "      <th>3</th>\n",
       "      <td>0.215885</td>\n",
       "      <td>0.372335</td>\n",
       "      <td>0.164</td>\n",
       "      <td>0.908</td>\n",
       "      <td>0.6</td>\n",
       "      <td>0.333333</td>\n",
       "      <td>0.333333</td>\n",
       "      <td>1</td>\n",
       "      <td>0</td>\n",
       "      <td>1</td>\n",
       "      <td>0</td>\n",
       "      <td>1</td>\n",
       "      <td>1.000000</td>\n",
       "      <td>1</td>\n",
       "    </tr>\n",
       "    <tr>\n",
       "      <th>4</th>\n",
       "      <td>0.155810</td>\n",
       "      <td>0.244745</td>\n",
       "      <td>0.406</td>\n",
       "      <td>0.282</td>\n",
       "      <td>0.6</td>\n",
       "      <td>0.000000</td>\n",
       "      <td>0.333333</td>\n",
       "      <td>1</td>\n",
       "      <td>1</td>\n",
       "      <td>1</td>\n",
       "      <td>0</td>\n",
       "      <td>1</td>\n",
       "      <td>0.666667</td>\n",
       "      <td>0</td>\n",
       "    </tr>\n",
       "    <tr>\n",
       "      <th>...</th>\n",
       "      <td>...</td>\n",
       "      <td>...</td>\n",
       "      <td>...</td>\n",
       "      <td>...</td>\n",
       "      <td>...</td>\n",
       "      <td>...</td>\n",
       "      <td>...</td>\n",
       "      <td>...</td>\n",
       "      <td>...</td>\n",
       "      <td>...</td>\n",
       "      <td>...</td>\n",
       "      <td>...</td>\n",
       "      <td>...</td>\n",
       "      <td>...</td>\n",
       "    </tr>\n",
       "    <tr>\n",
       "      <th>540</th>\n",
       "      <td>0.040247</td>\n",
       "      <td>0.181372</td>\n",
       "      <td>0.340</td>\n",
       "      <td>0.204</td>\n",
       "      <td>0.2</td>\n",
       "      <td>0.000000</td>\n",
       "      <td>0.000000</td>\n",
       "      <td>1</td>\n",
       "      <td>0</td>\n",
       "      <td>1</td>\n",
       "      <td>0</td>\n",
       "      <td>0</td>\n",
       "      <td>0.666667</td>\n",
       "      <td>0</td>\n",
       "    </tr>\n",
       "    <tr>\n",
       "      <th>541</th>\n",
       "      <td>0.064113</td>\n",
       "      <td>0.282747</td>\n",
       "      <td>0.394</td>\n",
       "      <td>0.372</td>\n",
       "      <td>0.4</td>\n",
       "      <td>0.000000</td>\n",
       "      <td>0.000000</td>\n",
       "      <td>0</td>\n",
       "      <td>0</td>\n",
       "      <td>0</td>\n",
       "      <td>0</td>\n",
       "      <td>0</td>\n",
       "      <td>0.000000</td>\n",
       "      <td>0</td>\n",
       "    </tr>\n",
       "    <tr>\n",
       "      <th>542</th>\n",
       "      <td>0.037161</td>\n",
       "      <td>0.168264</td>\n",
       "      <td>0.148</td>\n",
       "      <td>0.374</td>\n",
       "      <td>0.2</td>\n",
       "      <td>0.000000</td>\n",
       "      <td>0.000000</td>\n",
       "      <td>1</td>\n",
       "      <td>0</td>\n",
       "      <td>0</td>\n",
       "      <td>0</td>\n",
       "      <td>0</td>\n",
       "      <td>0.000000</td>\n",
       "      <td>0</td>\n",
       "    </tr>\n",
       "    <tr>\n",
       "      <th>543</th>\n",
       "      <td>0.121071</td>\n",
       "      <td>0.524684</td>\n",
       "      <td>0.540</td>\n",
       "      <td>0.688</td>\n",
       "      <td>0.4</td>\n",
       "      <td>0.000000</td>\n",
       "      <td>0.000000</td>\n",
       "      <td>0</td>\n",
       "      <td>0</td>\n",
       "      <td>0</td>\n",
       "      <td>0</td>\n",
       "      <td>0</td>\n",
       "      <td>0.000000</td>\n",
       "      <td>0</td>\n",
       "    </tr>\n",
       "    <tr>\n",
       "      <th>544</th>\n",
       "      <td>0.323223</td>\n",
       "      <td>0.600301</td>\n",
       "      <td>0.454</td>\n",
       "      <td>0.942</td>\n",
       "      <td>0.4</td>\n",
       "      <td>0.000000</td>\n",
       "      <td>0.333333</td>\n",
       "      <td>1</td>\n",
       "      <td>0</td>\n",
       "      <td>0</td>\n",
       "      <td>0</td>\n",
       "      <td>0</td>\n",
       "      <td>0.000000</td>\n",
       "      <td>0</td>\n",
       "    </tr>\n",
       "  </tbody>\n",
       "</table>\n",
       "<p>545 rows × 14 columns</p>\n",
       "</div>"
      ],
      "text/plain": [
       "        price      area  length  width  bedrooms  bathrooms   stories  \\\n",
       "0    0.287069  0.288093   0.586  0.224       0.6   0.333333  0.666667   \n",
       "1    0.663195  0.569795   0.868  0.464       0.6   1.000000  1.000000   \n",
       "2    0.299319  0.549533   0.396  0.926       0.4   0.333333  0.333333   \n",
       "3    0.215885  0.372335   0.164  0.908       0.6   0.333333  0.333333   \n",
       "4    0.155810  0.244745   0.406  0.282       0.6   0.000000  0.333333   \n",
       "..        ...       ...     ...    ...       ...        ...       ...   \n",
       "540  0.040247  0.181372   0.340  0.204       0.2   0.000000  0.000000   \n",
       "541  0.064113  0.282747   0.394  0.372       0.4   0.000000  0.000000   \n",
       "542  0.037161  0.168264   0.148  0.374       0.2   0.000000  0.000000   \n",
       "543  0.121071  0.524684   0.540  0.688       0.4   0.000000  0.000000   \n",
       "544  0.323223  0.600301   0.454  0.942       0.4   0.000000  0.333333   \n",
       "\n",
       "     mainroad  guestroom  basement  hotwaterheating  airconditioning  \\\n",
       "0           1          0         0                0                1   \n",
       "1           1          0         0                0                1   \n",
       "2           1          0         1                0                0   \n",
       "3           1          0         1                0                1   \n",
       "4           1          1         1                0                1   \n",
       "..        ...        ...       ...              ...              ...   \n",
       "540         1          0         1                0                0   \n",
       "541         0          0         0                0                0   \n",
       "542         1          0         0                0                0   \n",
       "543         0          0         0                0                0   \n",
       "544         1          0         0                0                0   \n",
       "\n",
       "      parking  prefarea  \n",
       "0    0.666667         1  \n",
       "1    1.000000         0  \n",
       "2    0.666667         1  \n",
       "3    1.000000         1  \n",
       "4    0.666667         0  \n",
       "..        ...       ...  \n",
       "540  0.666667         0  \n",
       "541  0.000000         0  \n",
       "542  0.000000         0  \n",
       "543  0.000000         0  \n",
       "544  0.000000         0  \n",
       "\n",
       "[545 rows x 14 columns]"
      ]
     },
     "execution_count": 67,
     "metadata": {},
     "output_type": "execute_result"
    }
   ],
   "source": [
    "X"
   ]
  },
  {
   "cell_type": "code",
   "execution_count": 68,
   "metadata": {
    "id": "UQbX3DxkXjSr"
   },
   "outputs": [],
   "source": [
    "from sklearn.neighbors import KNeighborsClassifier  \n",
    "\n",
    "X_train, X_test, y_train, y_test = train_test_split(X,Y,test_size=0.2,random_state=0)\n",
    "KNN = KNeighborsClassifier(n_neighbors=5, p=2 )  \n",
    "KNN.fit(X_train, y_train)  \n",
    "y_pred = KNN.predict(X_test)  "
   ]
  },
  {
   "cell_type": "code",
   "execution_count": 69,
   "metadata": {
    "colab": {
     "base_uri": "https://localhost:8080/"
    },
    "id": "LFmRE6EbX6y-",
    "outputId": "3e248b4c-2ccb-4e21-f7bf-cb476d38307b"
   },
   "outputs": [
    {
     "name": "stdout",
     "output_type": "stream",
     "text": [
      "31.128747795414462\n",
      "33.94495412844037\n"
     ]
    }
   ],
   "source": [
    "from sklearn.metrics import f1_score,accuracy_score\n",
    "\n",
    "print(f1_score(y_test, y_pred, average='macro')*100)\n",
    "print(accuracy_score(y_test, y_pred)*100)"
   ]
  },
  {
   "cell_type": "markdown",
   "metadata": {
    "id": "WFLvcjr7aU3D"
   },
   "source": [
    "### Z-Score normalization"
   ]
  },
  {
   "cell_type": "code",
   "execution_count": 70,
   "metadata": {
    "colab": {
     "base_uri": "https://localhost:8080/",
     "height": 424
    },
    "id": "7oXuprn1aPuP",
    "outputId": "79cf7bdf-13f5-4d06-f950-df3744330b7c"
   },
   "outputs": [
    {
     "data": {
      "text/html": [
       "<div>\n",
       "<style scoped>\n",
       "    .dataframe tbody tr th:only-of-type {\n",
       "        vertical-align: middle;\n",
       "    }\n",
       "\n",
       "    .dataframe tbody tr th {\n",
       "        vertical-align: top;\n",
       "    }\n",
       "\n",
       "    .dataframe thead th {\n",
       "        text-align: right;\n",
       "    }\n",
       "</style>\n",
       "<table border=\"1\" class=\"dataframe\">\n",
       "  <thead>\n",
       "    <tr style=\"text-align: right;\">\n",
       "      <th></th>\n",
       "      <th>price</th>\n",
       "      <th>area</th>\n",
       "      <th>length</th>\n",
       "      <th>width</th>\n",
       "      <th>bedrooms</th>\n",
       "      <th>bathrooms</th>\n",
       "      <th>stories</th>\n",
       "      <th>parking</th>\n",
       "    </tr>\n",
       "  </thead>\n",
       "  <tbody>\n",
       "    <tr>\n",
       "      <th>0</th>\n",
       "      <td>0.610794</td>\n",
       "      <td>-0.433204</td>\n",
       "      <td>0.363412</td>\n",
       "      <td>-0.918937</td>\n",
       "      <td>1.403419</td>\n",
       "      <td>1.421812</td>\n",
       "      <td>1.378217</td>\n",
       "      <td>1.517692</td>\n",
       "    </tr>\n",
       "    <tr>\n",
       "      <th>1</th>\n",
       "      <td>3.098294</td>\n",
       "      <td>0.861228</td>\n",
       "      <td>1.314711</td>\n",
       "      <td>-0.088159</td>\n",
       "      <td>1.403419</td>\n",
       "      <td>5.405809</td>\n",
       "      <td>2.532024</td>\n",
       "      <td>2.679409</td>\n",
       "    </tr>\n",
       "    <tr>\n",
       "      <th>2</th>\n",
       "      <td>0.691810</td>\n",
       "      <td>0.768121</td>\n",
       "      <td>-0.277535</td>\n",
       "      <td>1.511089</td>\n",
       "      <td>0.047278</td>\n",
       "      <td>1.421812</td>\n",
       "      <td>0.224410</td>\n",
       "      <td>1.517692</td>\n",
       "    </tr>\n",
       "    <tr>\n",
       "      <th>3</th>\n",
       "      <td>0.140026</td>\n",
       "      <td>-0.046111</td>\n",
       "      <td>-1.060165</td>\n",
       "      <td>1.448781</td>\n",
       "      <td>1.403419</td>\n",
       "      <td>1.421812</td>\n",
       "      <td>0.224410</td>\n",
       "      <td>2.679409</td>\n",
       "    </tr>\n",
       "    <tr>\n",
       "      <th>4</th>\n",
       "      <td>-0.257282</td>\n",
       "      <td>-0.632391</td>\n",
       "      <td>-0.243801</td>\n",
       "      <td>-0.718166</td>\n",
       "      <td>1.403419</td>\n",
       "      <td>-0.570187</td>\n",
       "      <td>0.224410</td>\n",
       "      <td>1.517692</td>\n",
       "    </tr>\n",
       "    <tr>\n",
       "      <th>...</th>\n",
       "      <td>...</td>\n",
       "      <td>...</td>\n",
       "      <td>...</td>\n",
       "      <td>...</td>\n",
       "      <td>...</td>\n",
       "      <td>...</td>\n",
       "      <td>...</td>\n",
       "      <td>...</td>\n",
       "    </tr>\n",
       "    <tr>\n",
       "      <th>540</th>\n",
       "      <td>-1.021550</td>\n",
       "      <td>-0.923588</td>\n",
       "      <td>-0.466446</td>\n",
       "      <td>-0.988169</td>\n",
       "      <td>-1.308863</td>\n",
       "      <td>-0.570187</td>\n",
       "      <td>-0.929397</td>\n",
       "      <td>1.517692</td>\n",
       "    </tr>\n",
       "    <tr>\n",
       "      <th>541</th>\n",
       "      <td>-0.863713</td>\n",
       "      <td>-0.457769</td>\n",
       "      <td>-0.284282</td>\n",
       "      <td>-0.406624</td>\n",
       "      <td>0.047278</td>\n",
       "      <td>-0.570187</td>\n",
       "      <td>-0.929397</td>\n",
       "      <td>-0.805741</td>\n",
       "    </tr>\n",
       "    <tr>\n",
       "      <th>542</th>\n",
       "      <td>-1.041960</td>\n",
       "      <td>-0.983823</td>\n",
       "      <td>-1.114139</td>\n",
       "      <td>-0.399701</td>\n",
       "      <td>-1.308863</td>\n",
       "      <td>-0.570187</td>\n",
       "      <td>-0.929397</td>\n",
       "      <td>-0.805741</td>\n",
       "    </tr>\n",
       "    <tr>\n",
       "      <th>543</th>\n",
       "      <td>-0.487025</td>\n",
       "      <td>0.653937</td>\n",
       "      <td>0.208235</td>\n",
       "      <td>0.687234</td>\n",
       "      <td>0.047278</td>\n",
       "      <td>-0.570187</td>\n",
       "      <td>-0.929397</td>\n",
       "      <td>-0.805741</td>\n",
       "    </tr>\n",
       "    <tr>\n",
       "      <th>544</th>\n",
       "      <td>0.849899</td>\n",
       "      <td>1.001402</td>\n",
       "      <td>-0.081878</td>\n",
       "      <td>1.566474</td>\n",
       "      <td>0.047278</td>\n",
       "      <td>-0.570187</td>\n",
       "      <td>0.224410</td>\n",
       "      <td>-0.805741</td>\n",
       "    </tr>\n",
       "  </tbody>\n",
       "</table>\n",
       "<p>545 rows × 8 columns</p>\n",
       "</div>"
      ],
      "text/plain": [
       "        price      area    length     width  bedrooms  bathrooms   stories  \\\n",
       "0    0.610794 -0.433204  0.363412 -0.918937  1.403419   1.421812  1.378217   \n",
       "1    3.098294  0.861228  1.314711 -0.088159  1.403419   5.405809  2.532024   \n",
       "2    0.691810  0.768121 -0.277535  1.511089  0.047278   1.421812  0.224410   \n",
       "3    0.140026 -0.046111 -1.060165  1.448781  1.403419   1.421812  0.224410   \n",
       "4   -0.257282 -0.632391 -0.243801 -0.718166  1.403419  -0.570187  0.224410   \n",
       "..        ...       ...       ...       ...       ...        ...       ...   \n",
       "540 -1.021550 -0.923588 -0.466446 -0.988169 -1.308863  -0.570187 -0.929397   \n",
       "541 -0.863713 -0.457769 -0.284282 -0.406624  0.047278  -0.570187 -0.929397   \n",
       "542 -1.041960 -0.983823 -1.114139 -0.399701 -1.308863  -0.570187 -0.929397   \n",
       "543 -0.487025  0.653937  0.208235  0.687234  0.047278  -0.570187 -0.929397   \n",
       "544  0.849899  1.001402 -0.081878  1.566474  0.047278  -0.570187  0.224410   \n",
       "\n",
       "      parking  \n",
       "0    1.517692  \n",
       "1    2.679409  \n",
       "2    1.517692  \n",
       "3    2.679409  \n",
       "4    1.517692  \n",
       "..        ...  \n",
       "540  1.517692  \n",
       "541 -0.805741  \n",
       "542 -0.805741  \n",
       "543 -0.805741  \n",
       "544 -0.805741  \n",
       "\n",
       "[545 rows x 8 columns]"
      ]
     },
     "execution_count": 70,
     "metadata": {},
     "output_type": "execute_result"
    }
   ],
   "source": [
    "Z_score"
   ]
  },
  {
   "cell_type": "code",
   "execution_count": 71,
   "metadata": {
    "id": "NCQxkuPAd_Vv"
   },
   "outputs": [],
   "source": [
    "from sklearn.neighbors import KNeighborsClassifier  \n",
    "\n",
    "X_train, X_test, y_train, y_test = train_test_split(Z_score,Y,test_size=0.2,random_state=0)\n",
    "KNN = KNeighborsClassifier(n_neighbors=11)  \n",
    "KNN.fit(X_train, y_train)  \n",
    "y_pred = KNN.predict(X_test)  "
   ]
  },
  {
   "cell_type": "code",
   "execution_count": 72,
   "metadata": {
    "colab": {
     "base_uri": "https://localhost:8080/"
    },
    "id": "qiaQ3XdseObs",
    "outputId": "489f3f58-0a40-4d9d-b9d0-01ce1d20311b"
   },
   "outputs": [
    {
     "name": "stdout",
     "output_type": "stream",
     "text": [
      "37.17940384528263\n",
      "39.44954128440367\n"
     ]
    }
   ],
   "source": [
    "from sklearn.metrics import f1_score,accuracy_score\n",
    "\n",
    "print(f1_score(y_test, y_pred, average='macro')*100)\n",
    "print(accuracy_score(y_test, y_pred)*100)"
   ]
  },
  {
   "cell_type": "markdown",
   "metadata": {
    "id": "oefmhSm3emCf"
   },
   "source": [
    "### Range normalization"
   ]
  },
  {
   "cell_type": "code",
   "execution_count": 73,
   "metadata": {
    "id": "7rdc1XUDebt9"
   },
   "outputs": [],
   "source": [
    "X['area'] = (X['area']*6)-3\n",
    "X['price'] = (X['price']*6)-3\n",
    "X['length'] = (X['length']*6)-3\n",
    "X['width'] = (X['width']*6)-3\n",
    "X['bedrooms'] = (X['bedrooms']*6)-3\n",
    "X['bathrooms'] = (X['bathrooms']*6)-3\n",
    "X['stories'] = (X['stories']*6)-3\n",
    "X['parking'] = (X['parking']*6)-3"
   ]
  },
  {
   "cell_type": "code",
   "execution_count": 74,
   "metadata": {
    "colab": {
     "base_uri": "https://localhost:8080/",
     "height": 424
    },
    "id": "WXbvXJxLe2Iq",
    "outputId": "0272320a-d68d-4dc0-a874-000b150e2f34"
   },
   "outputs": [
    {
     "data": {
      "text/html": [
       "<div>\n",
       "<style scoped>\n",
       "    .dataframe tbody tr th:only-of-type {\n",
       "        vertical-align: middle;\n",
       "    }\n",
       "\n",
       "    .dataframe tbody tr th {\n",
       "        vertical-align: top;\n",
       "    }\n",
       "\n",
       "    .dataframe thead th {\n",
       "        text-align: right;\n",
       "    }\n",
       "</style>\n",
       "<table border=\"1\" class=\"dataframe\">\n",
       "  <thead>\n",
       "    <tr style=\"text-align: right;\">\n",
       "      <th></th>\n",
       "      <th>price</th>\n",
       "      <th>area</th>\n",
       "      <th>length</th>\n",
       "      <th>width</th>\n",
       "      <th>bedrooms</th>\n",
       "      <th>bathrooms</th>\n",
       "      <th>stories</th>\n",
       "      <th>mainroad</th>\n",
       "      <th>guestroom</th>\n",
       "      <th>basement</th>\n",
       "      <th>hotwaterheating</th>\n",
       "      <th>airconditioning</th>\n",
       "      <th>parking</th>\n",
       "      <th>prefarea</th>\n",
       "    </tr>\n",
       "  </thead>\n",
       "  <tbody>\n",
       "    <tr>\n",
       "      <th>0</th>\n",
       "      <td>-1.277588</td>\n",
       "      <td>-1.271442</td>\n",
       "      <td>0.516</td>\n",
       "      <td>-1.656</td>\n",
       "      <td>0.6</td>\n",
       "      <td>-1.0</td>\n",
       "      <td>1.0</td>\n",
       "      <td>1</td>\n",
       "      <td>0</td>\n",
       "      <td>0</td>\n",
       "      <td>0</td>\n",
       "      <td>1</td>\n",
       "      <td>1.0</td>\n",
       "      <td>1</td>\n",
       "    </tr>\n",
       "    <tr>\n",
       "      <th>1</th>\n",
       "      <td>0.979172</td>\n",
       "      <td>0.418772</td>\n",
       "      <td>2.208</td>\n",
       "      <td>-0.216</td>\n",
       "      <td>0.6</td>\n",
       "      <td>3.0</td>\n",
       "      <td>3.0</td>\n",
       "      <td>1</td>\n",
       "      <td>0</td>\n",
       "      <td>0</td>\n",
       "      <td>0</td>\n",
       "      <td>1</td>\n",
       "      <td>3.0</td>\n",
       "      <td>0</td>\n",
       "    </tr>\n",
       "    <tr>\n",
       "      <th>2</th>\n",
       "      <td>-1.204087</td>\n",
       "      <td>0.297197</td>\n",
       "      <td>-0.624</td>\n",
       "      <td>2.556</td>\n",
       "      <td>-0.6</td>\n",
       "      <td>-1.0</td>\n",
       "      <td>-1.0</td>\n",
       "      <td>1</td>\n",
       "      <td>0</td>\n",
       "      <td>1</td>\n",
       "      <td>0</td>\n",
       "      <td>0</td>\n",
       "      <td>1.0</td>\n",
       "      <td>1</td>\n",
       "    </tr>\n",
       "    <tr>\n",
       "      <th>3</th>\n",
       "      <td>-1.704688</td>\n",
       "      <td>-0.765992</td>\n",
       "      <td>-2.016</td>\n",
       "      <td>2.448</td>\n",
       "      <td>0.6</td>\n",
       "      <td>-1.0</td>\n",
       "      <td>-1.0</td>\n",
       "      <td>1</td>\n",
       "      <td>0</td>\n",
       "      <td>1</td>\n",
       "      <td>0</td>\n",
       "      <td>1</td>\n",
       "      <td>3.0</td>\n",
       "      <td>1</td>\n",
       "    </tr>\n",
       "    <tr>\n",
       "      <th>4</th>\n",
       "      <td>-2.065142</td>\n",
       "      <td>-1.531533</td>\n",
       "      <td>-0.564</td>\n",
       "      <td>-1.308</td>\n",
       "      <td>0.6</td>\n",
       "      <td>-3.0</td>\n",
       "      <td>-1.0</td>\n",
       "      <td>1</td>\n",
       "      <td>1</td>\n",
       "      <td>1</td>\n",
       "      <td>0</td>\n",
       "      <td>1</td>\n",
       "      <td>1.0</td>\n",
       "      <td>0</td>\n",
       "    </tr>\n",
       "    <tr>\n",
       "      <th>...</th>\n",
       "      <td>...</td>\n",
       "      <td>...</td>\n",
       "      <td>...</td>\n",
       "      <td>...</td>\n",
       "      <td>...</td>\n",
       "      <td>...</td>\n",
       "      <td>...</td>\n",
       "      <td>...</td>\n",
       "      <td>...</td>\n",
       "      <td>...</td>\n",
       "      <td>...</td>\n",
       "      <td>...</td>\n",
       "      <td>...</td>\n",
       "      <td>...</td>\n",
       "    </tr>\n",
       "    <tr>\n",
       "      <th>540</th>\n",
       "      <td>-2.758517</td>\n",
       "      <td>-1.911765</td>\n",
       "      <td>-0.960</td>\n",
       "      <td>-1.776</td>\n",
       "      <td>-1.8</td>\n",
       "      <td>-3.0</td>\n",
       "      <td>-3.0</td>\n",
       "      <td>1</td>\n",
       "      <td>0</td>\n",
       "      <td>1</td>\n",
       "      <td>0</td>\n",
       "      <td>0</td>\n",
       "      <td>1.0</td>\n",
       "      <td>0</td>\n",
       "    </tr>\n",
       "    <tr>\n",
       "      <th>541</th>\n",
       "      <td>-2.615321</td>\n",
       "      <td>-1.303518</td>\n",
       "      <td>-0.636</td>\n",
       "      <td>-0.768</td>\n",
       "      <td>-0.6</td>\n",
       "      <td>-3.0</td>\n",
       "      <td>-3.0</td>\n",
       "      <td>0</td>\n",
       "      <td>0</td>\n",
       "      <td>0</td>\n",
       "      <td>0</td>\n",
       "      <td>0</td>\n",
       "      <td>-3.0</td>\n",
       "      <td>0</td>\n",
       "    </tr>\n",
       "    <tr>\n",
       "      <th>542</th>\n",
       "      <td>-2.777034</td>\n",
       "      <td>-1.990418</td>\n",
       "      <td>-2.112</td>\n",
       "      <td>-0.756</td>\n",
       "      <td>-1.8</td>\n",
       "      <td>-3.0</td>\n",
       "      <td>-3.0</td>\n",
       "      <td>1</td>\n",
       "      <td>0</td>\n",
       "      <td>0</td>\n",
       "      <td>0</td>\n",
       "      <td>0</td>\n",
       "      <td>-3.0</td>\n",
       "      <td>0</td>\n",
       "    </tr>\n",
       "    <tr>\n",
       "      <th>543</th>\n",
       "      <td>-2.273574</td>\n",
       "      <td>0.148101</td>\n",
       "      <td>0.240</td>\n",
       "      <td>1.128</td>\n",
       "      <td>-0.6</td>\n",
       "      <td>-3.0</td>\n",
       "      <td>-3.0</td>\n",
       "      <td>0</td>\n",
       "      <td>0</td>\n",
       "      <td>0</td>\n",
       "      <td>0</td>\n",
       "      <td>0</td>\n",
       "      <td>-3.0</td>\n",
       "      <td>0</td>\n",
       "    </tr>\n",
       "    <tr>\n",
       "      <th>544</th>\n",
       "      <td>-1.060663</td>\n",
       "      <td>0.601806</td>\n",
       "      <td>-0.276</td>\n",
       "      <td>2.652</td>\n",
       "      <td>-0.6</td>\n",
       "      <td>-3.0</td>\n",
       "      <td>-1.0</td>\n",
       "      <td>1</td>\n",
       "      <td>0</td>\n",
       "      <td>0</td>\n",
       "      <td>0</td>\n",
       "      <td>0</td>\n",
       "      <td>-3.0</td>\n",
       "      <td>0</td>\n",
       "    </tr>\n",
       "  </tbody>\n",
       "</table>\n",
       "<p>545 rows × 14 columns</p>\n",
       "</div>"
      ],
      "text/plain": [
       "        price      area  length  width  bedrooms  bathrooms  stories  \\\n",
       "0   -1.277588 -1.271442   0.516 -1.656       0.6       -1.0      1.0   \n",
       "1    0.979172  0.418772   2.208 -0.216       0.6        3.0      3.0   \n",
       "2   -1.204087  0.297197  -0.624  2.556      -0.6       -1.0     -1.0   \n",
       "3   -1.704688 -0.765992  -2.016  2.448       0.6       -1.0     -1.0   \n",
       "4   -2.065142 -1.531533  -0.564 -1.308       0.6       -3.0     -1.0   \n",
       "..        ...       ...     ...    ...       ...        ...      ...   \n",
       "540 -2.758517 -1.911765  -0.960 -1.776      -1.8       -3.0     -3.0   \n",
       "541 -2.615321 -1.303518  -0.636 -0.768      -0.6       -3.0     -3.0   \n",
       "542 -2.777034 -1.990418  -2.112 -0.756      -1.8       -3.0     -3.0   \n",
       "543 -2.273574  0.148101   0.240  1.128      -0.6       -3.0     -3.0   \n",
       "544 -1.060663  0.601806  -0.276  2.652      -0.6       -3.0     -1.0   \n",
       "\n",
       "     mainroad  guestroom  basement  hotwaterheating  airconditioning  parking  \\\n",
       "0           1          0         0                0                1      1.0   \n",
       "1           1          0         0                0                1      3.0   \n",
       "2           1          0         1                0                0      1.0   \n",
       "3           1          0         1                0                1      3.0   \n",
       "4           1          1         1                0                1      1.0   \n",
       "..        ...        ...       ...              ...              ...      ...   \n",
       "540         1          0         1                0                0      1.0   \n",
       "541         0          0         0                0                0     -3.0   \n",
       "542         1          0         0                0                0     -3.0   \n",
       "543         0          0         0                0                0     -3.0   \n",
       "544         1          0         0                0                0     -3.0   \n",
       "\n",
       "     prefarea  \n",
       "0           1  \n",
       "1           0  \n",
       "2           1  \n",
       "3           1  \n",
       "4           0  \n",
       "..        ...  \n",
       "540         0  \n",
       "541         0  \n",
       "542         0  \n",
       "543         0  \n",
       "544         0  \n",
       "\n",
       "[545 rows x 14 columns]"
      ]
     },
     "execution_count": 74,
     "metadata": {},
     "output_type": "execute_result"
    }
   ],
   "source": [
    "X"
   ]
  },
  {
   "cell_type": "code",
   "execution_count": 75,
   "metadata": {
    "id": "-R4EZFLqfLJX"
   },
   "outputs": [],
   "source": [
    "x = X.iloc[:,:7]\n",
    "x['parking'] = X.iloc[:,12]"
   ]
  },
  {
   "cell_type": "code",
   "execution_count": 76,
   "metadata": {
    "id": "5NkEAlSkfof7"
   },
   "outputs": [],
   "source": [
    "from sklearn.neighbors import KNeighborsClassifier  \n",
    "\n",
    "X_train, X_test, y_train, y_test = train_test_split(x,Y,test_size=0.2,random_state=0)\n",
    "KNN = KNeighborsClassifier(n_neighbors=5, p=2 )  \n",
    "KNN.fit(X_train, y_train)  \n",
    "y_pred = KNN.predict(X_test)  "
   ]
  },
  {
   "cell_type": "code",
   "execution_count": 77,
   "metadata": {
    "colab": {
     "base_uri": "https://localhost:8080/"
    },
    "id": "zL8GK0UOfvWn",
    "outputId": "8cea1b91-3489-44b8-b92b-47985f99d23f"
   },
   "outputs": [
    {
     "name": "stdout",
     "output_type": "stream",
     "text": [
      "29.135623286566688\n",
      "32.11009174311927\n"
     ]
    }
   ],
   "source": [
    "from sklearn.metrics import f1_score,accuracy_score\n",
    "\n",
    "print(f1_score(y_test, y_pred, average='macro')*100)\n",
    "print(accuracy_score(y_test, y_pred)*100)"
   ]
  },
  {
   "cell_type": "markdown",
   "metadata": {
    "id": "OmDfDZHAgZzZ"
   },
   "source": [
    "## Evaluation"
   ]
  },
  {
   "cell_type": "code",
   "execution_count": 78,
   "metadata": {
    "id": "VQb88jqufyHV"
   },
   "outputs": [],
   "source": [
    "#Normalization gave the best results. Normalization using Zscore normalization has given the best results outperforming the others. \n",
    "#Zscore gives us the values in the range of -3 standard dev and +3 std dev thus all the outliers are removed so it gives the best accuracy."
   ]
  },
  {
   "cell_type": "markdown",
   "metadata": {
    "id": "wiwHpgW3ieBC"
   },
   "source": [
    "### Plotting"
   ]
  },
  {
   "cell_type": "code",
   "execution_count": 159,
   "metadata": {
    "id": "W_xBmaBXiVxQ"
   },
   "outputs": [],
   "source": [
    "area = df.area\n",
    "length = df.length\n",
    "width = df.width"
   ]
  },
  {
   "cell_type": "code",
   "execution_count": 162,
   "metadata": {
    "colab": {
     "base_uri": "https://localhost:8080/",
     "height": 282
    },
    "id": "x_0gRrPGir_R",
    "outputId": "dc77bd6b-4b98-41a8-e38b-443bfcaebd4d"
   },
   "outputs": [
    {
     "data": {
      "text/plain": [
       "<matplotlib.collections.PathCollection at 0x7f86590ca978>"
      ]
     },
     "execution_count": 162,
     "metadata": {},
     "output_type": "execute_result"
    },
    {
     "data": {
      "image/png": "[encoded data removed]",
      "text/plain": [
       "<Figure size 432x288 with 1 Axes>"
      ]
     },
     "metadata": {
      "needs_background": "light"
     },
     "output_type": "display_data"
    }
   ],
   "source": [
    "plt.scatter(area,length, c = 'gray')"
   ]
  },
  {
   "cell_type": "code",
   "execution_count": 161,
   "metadata": {
    "colab": {
     "base_uri": "https://localhost:8080/",
     "height": 282
    },
    "id": "5ySujYhojaXZ",
    "outputId": "88f3964c-e5f4-4d71-8b03-f50c9fe0a6e6"
   },
   "outputs": [
    {
     "data": {
      "text/plain": [
       "<matplotlib.collections.PathCollection at 0x7f8659196ef0>"
      ]
     },
     "execution_count": 161,
     "metadata": {},
     "output_type": "execute_result"
    },
    {
     "data": {
      "image/png": "[encoded data removed]",
      "text/plain": [
       "<Figure size 432x288 with 1 Axes>"
      ]
     },
     "metadata": {
      "needs_background": "light"
     },
     "output_type": "display_data"
    }
   ],
   "source": [
    "plt.scatter(area,width, c = 'black')"
   ]
  },
  {
   "cell_type": "code",
   "execution_count": 82,
   "metadata": {
    "colab": {
     "base_uri": "https://localhost:8080/",
     "height": 629
    },
    "id": "H3LPGflMkbzo",
    "outputId": "c36a7332-2215-41be-9af1-73665b75abfd"
   },
   "outputs": [
    {
     "data": {
      "image/png": "[encoded data removed]",
      "text/plain": [
       "<Figure size 792x792 with 1 Axes>"
      ]
     },
     "metadata": {
      "needs_background": "light"
     },
     "output_type": "display_data"
    }
   ],
   "source": [
    "fig = plt.figure(figsize=(11,11))\n",
    "ax = fig.add_subplot(projection='3d')\n",
    "\n",
    "ax.scatter(area,width,length, c = 'black')\n",
    "\n",
    "ax.set_xlabel('Area')\n",
    "ax.set_ylabel('Width')\n",
    "ax.set_zlabel('Length')\n",
    "\n",
    "plt.show()"
   ]
  },
  {
   "cell_type": "markdown",
   "metadata": {
    "id": "HyvoMtQAmSE0"
   },
   "source": [
    "## Covariance and Correlation"
   ]
  },
  {
   "cell_type": "code",
   "execution_count": 83,
   "metadata": {
    "id": "TwdXN1r7mdsx"
   },
   "outputs": [],
   "source": [
    "x = X.iloc[:,:7]\n",
    "x['parking'] = X.iloc[:,12]"
   ]
  },
  {
   "cell_type": "code",
   "execution_count": 84,
   "metadata": {
    "colab": {
     "base_uri": "https://localhost:8080/"
    },
    "id": "qA4D8DLYk2_9",
    "outputId": "8a417930-63de-4f86-acec-b9344ca63664"
   },
   "outputs": [
    {
     "name": "stdout",
     "output_type": "stream",
     "text": [
      "Covariance:  45749712500.51745\n",
      "Correlation:  [[1.        0.6078267]\n",
      " [0.6078267 1.       ]]\n"
     ]
    }
   ],
   "source": [
    "covariance = np.cov(df['price'], df['area'],bias=True)\n",
    "print(\"Covariance: \",covariance[0][1])\n",
    "correlation = np.corrcoef(df['price'], df['area'])\n",
    "print(\"Correlation: \", correlation)"
   ]
  },
  {
   "cell_type": "code",
   "execution_count": 85,
   "metadata": {
    "colab": {
     "base_uri": "https://localhost:8080/"
    },
    "id": "rcOpQ0bVoaIN",
    "outputId": "41a746a6-9177-4e2f-8040-74c4742107a9"
   },
   "outputs": [
    {
     "data": {
      "text/plain": [
       "array([[1.        , 0.69595243],\n",
       "       [0.69595243, 1.        ]])"
      ]
     },
     "execution_count": 85,
     "metadata": {},
     "output_type": "execute_result"
    }
   ],
   "source": [
    "np.corrcoef(area,length)"
   ]
  },
  {
   "cell_type": "code",
   "execution_count": 86,
   "metadata": {
    "colab": {
     "base_uri": "https://localhost:8080/",
     "height": 282
    },
    "id": "xRucLJ0RplRU",
    "outputId": "aa9a4e5d-b405-4125-9adb-64ee9da68d59",
    "scrolled": true
   },
   "outputs": [
    {
     "data": {
      "text/plain": [
       "[<matplotlib.lines.Line2D at 0x7f865c0d14e0>]"
      ]
     },
     "execution_count": 86,
     "metadata": {},
     "output_type": "execute_result"
    },
    {
     "data": {
      "image/png": "[encoded data removed]",
      "text/plain": [
       "<Figure size 432x288 with 1 Axes>"
      ]
     },
     "metadata": {
      "needs_background": "light"
     },
     "output_type": "display_data"
    }
   ],
   "source": [
    "plt.scatter(area,length)\n",
    "area = np.unique(df['area'])\n",
    "plt.plot(area, np.poly1d(np.polyfit(df['area'], length, 1))(area), c='black')"
   ]
  },
  {
   "cell_type": "markdown",
   "metadata": {},
   "source": [
    "# Probability"
   ]
  },
  {
   "cell_type": "markdown",
   "metadata": {},
   "source": [
    "#### 2 person go to the same city"
   ]
  },
  {
   "cell_type": "code",
   "execution_count": null,
   "metadata": {
    "colab": {
     "base_uri": "https://localhost:8080/",
     "height": 235
    },
    "id": "1SGBTm1Xp2GX",
    "outputId": "76d708f7-d5b3-4fe0-9556-30003d36a699"
   },
   "outputs": [],
   "source": [
    "Cities = ['A','B','C','D','E']\n",
    "array = []\n",
    "\n",
    "for i in Cities:\n",
    "    city = ''\n",
    "    city = i\n",
    "    save = city\n",
    "    for k in Cities:\n",
    "        city = save\n",
    "        city += k\n",
    "        for j in Cities:\n",
    "            array.append(city+j)            "
   ]
  },
  {
   "cell_type": "code",
   "execution_count": 144,
   "metadata": {
    "id": "Mlt2cjs9tqOg"
   },
   "outputs": [
    {
     "data": {
      "text/plain": [
       "['AAA',\n",
       " 'AAB',\n",
       " 'AAC',\n",
       " 'AAD',\n",
       " 'AAE',\n",
       " 'ABA',\n",
       " 'ABB',\n",
       " 'ABC',\n",
       " 'ABD',\n",
       " 'ABE',\n",
       " 'ACA',\n",
       " 'ACB',\n",
       " 'ACC',\n",
       " 'ACD',\n",
       " 'ACE',\n",
       " 'ADA',\n",
       " 'ADB',\n",
       " 'ADC',\n",
       " 'ADD',\n",
       " 'ADE',\n",
       " 'AEA',\n",
       " 'AEB',\n",
       " 'AEC',\n",
       " 'AED',\n",
       " 'AEE',\n",
       " 'BAA',\n",
       " 'BAB',\n",
       " 'BAC',\n",
       " 'BAD',\n",
       " 'BAE',\n",
       " 'BBA',\n",
       " 'BBB',\n",
       " 'BBC',\n",
       " 'BBD',\n",
       " 'BBE',\n",
       " 'BCA',\n",
       " 'BCB',\n",
       " 'BCC',\n",
       " 'BCD',\n",
       " 'BCE',\n",
       " 'BDA',\n",
       " 'BDB',\n",
       " 'BDC',\n",
       " 'BDD',\n",
       " 'BDE',\n",
       " 'BEA',\n",
       " 'BEB',\n",
       " 'BEC',\n",
       " 'BED',\n",
       " 'BEE',\n",
       " 'CAA',\n",
       " 'CAB',\n",
       " 'CAC',\n",
       " 'CAD',\n",
       " 'CAE',\n",
       " 'CBA',\n",
       " 'CBB',\n",
       " 'CBC',\n",
       " 'CBD',\n",
       " 'CBE',\n",
       " 'CCA',\n",
       " 'CCB',\n",
       " 'CCC',\n",
       " 'CCD',\n",
       " 'CCE',\n",
       " 'CDA',\n",
       " 'CDB',\n",
       " 'CDC',\n",
       " 'CDD',\n",
       " 'CDE',\n",
       " 'CEA',\n",
       " 'CEB',\n",
       " 'CEC',\n",
       " 'CED',\n",
       " 'CEE',\n",
       " 'DAA',\n",
       " 'DAB',\n",
       " 'DAC',\n",
       " 'DAD',\n",
       " 'DAE',\n",
       " 'DBA',\n",
       " 'DBB',\n",
       " 'DBC',\n",
       " 'DBD',\n",
       " 'DBE',\n",
       " 'DCA',\n",
       " 'DCB',\n",
       " 'DCC',\n",
       " 'DCD',\n",
       " 'DCE',\n",
       " 'DDA',\n",
       " 'DDB',\n",
       " 'DDC',\n",
       " 'DDD',\n",
       " 'DDE',\n",
       " 'DEA',\n",
       " 'DEB',\n",
       " 'DEC',\n",
       " 'DED',\n",
       " 'DEE',\n",
       " 'EAA',\n",
       " 'EAB',\n",
       " 'EAC',\n",
       " 'EAD',\n",
       " 'EAE',\n",
       " 'EBA',\n",
       " 'EBB',\n",
       " 'EBC',\n",
       " 'EBD',\n",
       " 'EBE',\n",
       " 'ECA',\n",
       " 'ECB',\n",
       " 'ECC',\n",
       " 'ECD',\n",
       " 'ECE',\n",
       " 'EDA',\n",
       " 'EDB',\n",
       " 'EDC',\n",
       " 'EDD',\n",
       " 'EDE',\n",
       " 'EEA',\n",
       " 'EEB',\n",
       " 'EEC',\n",
       " 'EED',\n",
       " 'EEE']"
      ]
     },
     "execution_count": 144,
     "metadata": {},
     "output_type": "execute_result"
    }
   ],
   "source": [
    "array"
   ]
  },
  {
   "cell_type": "code",
   "execution_count": 145,
   "metadata": {},
   "outputs": [
    {
     "name": "stdout",
     "output_type": "stream",
     "text": [
      "125\n"
     ]
    }
   ],
   "source": [
    "sample_space = len(array)\n",
    "print(sample_space)"
   ]
  },
  {
   "cell_type": "code",
   "execution_count": 146,
   "metadata": {},
   "outputs": [],
   "source": [
    "same_city = []\n",
    "count = 0\n",
    "for i in array:\n",
    "    if (i[0] == i[1]) or (i[0] == i[-1]) or (i[1] == i[-1]):\n",
    "        same_city.append(i)\n",
    "        count += 1"
   ]
  },
  {
   "cell_type": "code",
   "execution_count": 147,
   "metadata": {},
   "outputs": [
    {
     "data": {
      "text/plain": [
       "['AAA',\n",
       " 'AAB',\n",
       " 'AAC',\n",
       " 'AAD',\n",
       " 'AAE',\n",
       " 'ABA',\n",
       " 'ABB',\n",
       " 'ACA',\n",
       " 'ACC',\n",
       " 'ADA',\n",
       " 'ADD',\n",
       " 'AEA',\n",
       " 'AEE',\n",
       " 'BAA',\n",
       " 'BAB',\n",
       " 'BBA',\n",
       " 'BBB',\n",
       " 'BBC',\n",
       " 'BBD',\n",
       " 'BBE',\n",
       " 'BCB',\n",
       " 'BCC',\n",
       " 'BDB',\n",
       " 'BDD',\n",
       " 'BEB',\n",
       " 'BEE',\n",
       " 'CAA',\n",
       " 'CAC',\n",
       " 'CBB',\n",
       " 'CBC',\n",
       " 'CCA',\n",
       " 'CCB',\n",
       " 'CCC',\n",
       " 'CCD',\n",
       " 'CCE',\n",
       " 'CDC',\n",
       " 'CDD',\n",
       " 'CEC',\n",
       " 'CEE',\n",
       " 'DAA',\n",
       " 'DAD',\n",
       " 'DBB',\n",
       " 'DBD',\n",
       " 'DCC',\n",
       " 'DCD',\n",
       " 'DDA',\n",
       " 'DDB',\n",
       " 'DDC',\n",
       " 'DDD',\n",
       " 'DDE',\n",
       " 'DED',\n",
       " 'DEE',\n",
       " 'EAA',\n",
       " 'EAE',\n",
       " 'EBB',\n",
       " 'EBE',\n",
       " 'ECC',\n",
       " 'ECE',\n",
       " 'EDD',\n",
       " 'EDE',\n",
       " 'EEA',\n",
       " 'EEB',\n",
       " 'EEC',\n",
       " 'EED',\n",
       " 'EEE']"
      ]
     },
     "execution_count": 147,
     "metadata": {},
     "output_type": "execute_result"
    }
   ],
   "source": [
    "same_city"
   ]
  },
  {
   "cell_type": "code",
   "execution_count": 148,
   "metadata": {},
   "outputs": [
    {
     "data": {
      "text/plain": [
       "65"
      ]
     },
     "execution_count": 148,
     "metadata": {},
     "output_type": "execute_result"
    }
   ],
   "source": [
    "count"
   ]
  },
  {
   "cell_type": "code",
   "execution_count": 149,
   "metadata": {},
   "outputs": [],
   "source": [
    "prob = count / sample_space"
   ]
  },
  {
   "cell_type": "code",
   "execution_count": 150,
   "metadata": {},
   "outputs": [
    {
     "name": "stdout",
     "output_type": "stream",
     "text": [
      "The probability that 2 person go to the same city is 0.52\n"
     ]
    }
   ],
   "source": [
    "print(f\"The probability that 2 person go to the same city is {prob}\")"
   ]
  },
  {
   "cell_type": "code",
   "execution_count": 151,
   "metadata": {},
   "outputs": [],
   "source": [
    "all_same_city = []\n",
    "all_count = 0\n",
    "for i in array:\n",
    "    if (i[0] == i[1] == i[-1]):\n",
    "        all_same_city.append(i)\n",
    "        all_count += 1"
   ]
  },
  {
   "cell_type": "code",
   "execution_count": 153,
   "metadata": {},
   "outputs": [],
   "source": [
    "all_prob = all_count / sample_space"
   ]
  },
  {
   "cell_type": "code",
   "execution_count": 163,
   "metadata": {
    "scrolled": true
   },
   "outputs": [
    {
     "name": "stdout",
     "output_type": "stream",
     "text": [
      "The probability that all friends go to the same city is 0.04\n"
     ]
    }
   ],
   "source": [
    "print(f\"The probability that all friends go to the same city is {all_prob}\")"
   ]
  },
  {
   "cell_type": "code",
   "execution_count": 157,
   "metadata": {},
   "outputs": [
    {
     "data": {
      "image/png": "[encoded data removed]",
      "text/plain": [
       "<Figure size 432x288 with 1 Axes>"
      ]
     },
     "metadata": {
      "needs_background": "light"
     },
     "output_type": "display_data"
    }
   ],
   "source": [
    "fig = plt.figure()\n",
    "probability = [52,4]\n",
    "axis = fig.add_axes([0, 0, 0.75, 0.75])\n",
    "axis.set_ylabel('Probability')\n",
    "axis.set_title('PROBABILITY DISTRIBUTION FUNCTION')\n",
    "title = ['2 people in same city', 'All friends in same city']\n",
    "axis.bar(title, probability, color='black')\n",
    "plt.show()"
   ]
  },
  {
   "cell_type": "code",
   "execution_count": null,
   "metadata": {},
   "outputs": [],
   "source": [
    "# The problem we have just solved is a discrete distribution and univariate problem"
   ]
  }
 ],
 "metadata": {
  "colab": {
   "collapsed_sections": [],
   "provenance": []
  },
  "kernelspec": {
   "display_name": "Python 3 (ipykernel)",
   "language": "python",
   "name": "python3"
  },
  "language_info": {
   "codemirror_mode": {
    "name": "ipython",
    "version": 3
   },
   "file_extension": ".py",
   "mimetype": "text/x-python",
   "name": "python",
   "nbconvert_exporter": "python",
   "pygments_lexer": "ipython3",
   "version": "3.6.9"
  }
 },
 "nbformat": 4,
 "nbformat_minor": 1
}
