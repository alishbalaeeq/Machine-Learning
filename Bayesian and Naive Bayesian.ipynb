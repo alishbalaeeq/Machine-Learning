{
 "cells": [
  {
   "cell_type": "code",
   "execution_count": 152,
   "metadata": {
    "id": "02OwVB5NVh1z"
   },
   "outputs": [],
   "source": [
    "import numpy as np\n",
    "import pandas as pd"
   ]
  },
  {
   "cell_type": "code",
   "execution_count": 2,
   "metadata": {
    "id": "UoaPzl-cV4i-"
   },
   "outputs": [],
   "source": [
    "df = pd.read_csv(\"play_tennis.csv\")"
   ]
  },
  {
   "cell_type": "code",
   "execution_count": 3,
   "metadata": {
    "colab": {
     "base_uri": "https://localhost:8080/",
     "height": 488
    },
    "id": "Y6cylq2UWLBe",
    "outputId": "798e2388-5ada-4780-d9a9-f050445a2fbe"
   },
   "outputs": [
    {
     "data": {
      "text/html": [
       "<div>\n",
       "<style scoped>\n",
       "    .dataframe tbody tr th:only-of-type {\n",
       "        vertical-align: middle;\n",
       "    }\n",
       "\n",
       "    .dataframe tbody tr th {\n",
       "        vertical-align: top;\n",
       "    }\n",
       "\n",
       "    .dataframe thead th {\n",
       "        text-align: right;\n",
       "    }\n",
       "</style>\n",
       "<table border=\"1\" class=\"dataframe\">\n",
       "  <thead>\n",
       "    <tr style=\"text-align: right;\">\n",
       "      <th></th>\n",
       "      <th>day</th>\n",
       "      <th>outlook</th>\n",
       "      <th>temp</th>\n",
       "      <th>humidity</th>\n",
       "      <th>wind</th>\n",
       "      <th>play</th>\n",
       "    </tr>\n",
       "  </thead>\n",
       "  <tbody>\n",
       "    <tr>\n",
       "      <th>0</th>\n",
       "      <td>D1</td>\n",
       "      <td>Sunny</td>\n",
       "      <td>Hot</td>\n",
       "      <td>High</td>\n",
       "      <td>Weak</td>\n",
       "      <td>No</td>\n",
       "    </tr>\n",
       "    <tr>\n",
       "      <th>1</th>\n",
       "      <td>D2</td>\n",
       "      <td>Sunny</td>\n",
       "      <td>Hot</td>\n",
       "      <td>High</td>\n",
       "      <td>Strong</td>\n",
       "      <td>No</td>\n",
       "    </tr>\n",
       "    <tr>\n",
       "      <th>2</th>\n",
       "      <td>D3</td>\n",
       "      <td>Overcast</td>\n",
       "      <td>Hot</td>\n",
       "      <td>High</td>\n",
       "      <td>Weak</td>\n",
       "      <td>Yes</td>\n",
       "    </tr>\n",
       "    <tr>\n",
       "      <th>3</th>\n",
       "      <td>D4</td>\n",
       "      <td>Rain</td>\n",
       "      <td>Mild</td>\n",
       "      <td>High</td>\n",
       "      <td>Weak</td>\n",
       "      <td>Yes</td>\n",
       "    </tr>\n",
       "    <tr>\n",
       "      <th>4</th>\n",
       "      <td>D5</td>\n",
       "      <td>Rain</td>\n",
       "      <td>Cool</td>\n",
       "      <td>Normal</td>\n",
       "      <td>Weak</td>\n",
       "      <td>Yes</td>\n",
       "    </tr>\n",
       "    <tr>\n",
       "      <th>5</th>\n",
       "      <td>D6</td>\n",
       "      <td>Rain</td>\n",
       "      <td>Cool</td>\n",
       "      <td>Normal</td>\n",
       "      <td>Strong</td>\n",
       "      <td>No</td>\n",
       "    </tr>\n",
       "    <tr>\n",
       "      <th>6</th>\n",
       "      <td>D7</td>\n",
       "      <td>Overcast</td>\n",
       "      <td>Cool</td>\n",
       "      <td>Normal</td>\n",
       "      <td>Strong</td>\n",
       "      <td>Yes</td>\n",
       "    </tr>\n",
       "    <tr>\n",
       "      <th>7</th>\n",
       "      <td>D8</td>\n",
       "      <td>Sunny</td>\n",
       "      <td>Mild</td>\n",
       "      <td>High</td>\n",
       "      <td>Weak</td>\n",
       "      <td>No</td>\n",
       "    </tr>\n",
       "    <tr>\n",
       "      <th>8</th>\n",
       "      <td>D9</td>\n",
       "      <td>Sunny</td>\n",
       "      <td>Cool</td>\n",
       "      <td>Normal</td>\n",
       "      <td>Weak</td>\n",
       "      <td>Yes</td>\n",
       "    </tr>\n",
       "    <tr>\n",
       "      <th>9</th>\n",
       "      <td>D10</td>\n",
       "      <td>Rain</td>\n",
       "      <td>Mild</td>\n",
       "      <td>Normal</td>\n",
       "      <td>Weak</td>\n",
       "      <td>Yes</td>\n",
       "    </tr>\n",
       "    <tr>\n",
       "      <th>10</th>\n",
       "      <td>D11</td>\n",
       "      <td>Sunny</td>\n",
       "      <td>Mild</td>\n",
       "      <td>Normal</td>\n",
       "      <td>Strong</td>\n",
       "      <td>Yes</td>\n",
       "    </tr>\n",
       "    <tr>\n",
       "      <th>11</th>\n",
       "      <td>D12</td>\n",
       "      <td>Overcast</td>\n",
       "      <td>Mild</td>\n",
       "      <td>High</td>\n",
       "      <td>Strong</td>\n",
       "      <td>Yes</td>\n",
       "    </tr>\n",
       "    <tr>\n",
       "      <th>12</th>\n",
       "      <td>D13</td>\n",
       "      <td>Overcast</td>\n",
       "      <td>Hot</td>\n",
       "      <td>Normal</td>\n",
       "      <td>Weak</td>\n",
       "      <td>Yes</td>\n",
       "    </tr>\n",
       "    <tr>\n",
       "      <th>13</th>\n",
       "      <td>D14</td>\n",
       "      <td>Rain</td>\n",
       "      <td>Mild</td>\n",
       "      <td>High</td>\n",
       "      <td>Strong</td>\n",
       "      <td>No</td>\n",
       "    </tr>\n",
       "  </tbody>\n",
       "</table>\n",
       "</div>"
      ],
      "text/plain": [
       "    day   outlook  temp humidity    wind play\n",
       "0    D1     Sunny   Hot     High    Weak   No\n",
       "1    D2     Sunny   Hot     High  Strong   No\n",
       "2    D3  Overcast   Hot     High    Weak  Yes\n",
       "3    D4      Rain  Mild     High    Weak  Yes\n",
       "4    D5      Rain  Cool   Normal    Weak  Yes\n",
       "5    D6      Rain  Cool   Normal  Strong   No\n",
       "6    D7  Overcast  Cool   Normal  Strong  Yes\n",
       "7    D8     Sunny  Mild     High    Weak   No\n",
       "8    D9     Sunny  Cool   Normal    Weak  Yes\n",
       "9   D10      Rain  Mild   Normal    Weak  Yes\n",
       "10  D11     Sunny  Mild   Normal  Strong  Yes\n",
       "11  D12  Overcast  Mild     High  Strong  Yes\n",
       "12  D13  Overcast   Hot   Normal    Weak  Yes\n",
       "13  D14      Rain  Mild     High  Strong   No"
      ]
     },
     "execution_count": 3,
     "metadata": {},
     "output_type": "execute_result"
    }
   ],
   "source": [
    "df"
   ]
  },
  {
   "cell_type": "code",
   "execution_count": 4,
   "metadata": {
    "id": "R7mZoJhXWfvc"
   },
   "outputs": [],
   "source": [
    "df.drop('day',axis = 1,inplace = True)"
   ]
  },
  {
   "cell_type": "code",
   "execution_count": 5,
   "metadata": {
    "colab": {
     "base_uri": "https://localhost:8080/",
     "height": 488
    },
    "id": "X0j3Rtz7Wnvc",
    "outputId": "c183ece6-256b-4000-e424-e4d32d002ed1"
   },
   "outputs": [
    {
     "data": {
      "text/html": [
       "<div>\n",
       "<style scoped>\n",
       "    .dataframe tbody tr th:only-of-type {\n",
       "        vertical-align: middle;\n",
       "    }\n",
       "\n",
       "    .dataframe tbody tr th {\n",
       "        vertical-align: top;\n",
       "    }\n",
       "\n",
       "    .dataframe thead th {\n",
       "        text-align: right;\n",
       "    }\n",
       "</style>\n",
       "<table border=\"1\" class=\"dataframe\">\n",
       "  <thead>\n",
       "    <tr style=\"text-align: right;\">\n",
       "      <th></th>\n",
       "      <th>outlook</th>\n",
       "      <th>temp</th>\n",
       "      <th>humidity</th>\n",
       "      <th>wind</th>\n",
       "      <th>play</th>\n",
       "    </tr>\n",
       "  </thead>\n",
       "  <tbody>\n",
       "    <tr>\n",
       "      <th>0</th>\n",
       "      <td>Sunny</td>\n",
       "      <td>Hot</td>\n",
       "      <td>High</td>\n",
       "      <td>Weak</td>\n",
       "      <td>No</td>\n",
       "    </tr>\n",
       "    <tr>\n",
       "      <th>1</th>\n",
       "      <td>Sunny</td>\n",
       "      <td>Hot</td>\n",
       "      <td>High</td>\n",
       "      <td>Strong</td>\n",
       "      <td>No</td>\n",
       "    </tr>\n",
       "    <tr>\n",
       "      <th>2</th>\n",
       "      <td>Overcast</td>\n",
       "      <td>Hot</td>\n",
       "      <td>High</td>\n",
       "      <td>Weak</td>\n",
       "      <td>Yes</td>\n",
       "    </tr>\n",
       "    <tr>\n",
       "      <th>3</th>\n",
       "      <td>Rain</td>\n",
       "      <td>Mild</td>\n",
       "      <td>High</td>\n",
       "      <td>Weak</td>\n",
       "      <td>Yes</td>\n",
       "    </tr>\n",
       "    <tr>\n",
       "      <th>4</th>\n",
       "      <td>Rain</td>\n",
       "      <td>Cool</td>\n",
       "      <td>Normal</td>\n",
       "      <td>Weak</td>\n",
       "      <td>Yes</td>\n",
       "    </tr>\n",
       "    <tr>\n",
       "      <th>5</th>\n",
       "      <td>Rain</td>\n",
       "      <td>Cool</td>\n",
       "      <td>Normal</td>\n",
       "      <td>Strong</td>\n",
       "      <td>No</td>\n",
       "    </tr>\n",
       "    <tr>\n",
       "      <th>6</th>\n",
       "      <td>Overcast</td>\n",
       "      <td>Cool</td>\n",
       "      <td>Normal</td>\n",
       "      <td>Strong</td>\n",
       "      <td>Yes</td>\n",
       "    </tr>\n",
       "    <tr>\n",
       "      <th>7</th>\n",
       "      <td>Sunny</td>\n",
       "      <td>Mild</td>\n",
       "      <td>High</td>\n",
       "      <td>Weak</td>\n",
       "      <td>No</td>\n",
       "    </tr>\n",
       "    <tr>\n",
       "      <th>8</th>\n",
       "      <td>Sunny</td>\n",
       "      <td>Cool</td>\n",
       "      <td>Normal</td>\n",
       "      <td>Weak</td>\n",
       "      <td>Yes</td>\n",
       "    </tr>\n",
       "    <tr>\n",
       "      <th>9</th>\n",
       "      <td>Rain</td>\n",
       "      <td>Mild</td>\n",
       "      <td>Normal</td>\n",
       "      <td>Weak</td>\n",
       "      <td>Yes</td>\n",
       "    </tr>\n",
       "    <tr>\n",
       "      <th>10</th>\n",
       "      <td>Sunny</td>\n",
       "      <td>Mild</td>\n",
       "      <td>Normal</td>\n",
       "      <td>Strong</td>\n",
       "      <td>Yes</td>\n",
       "    </tr>\n",
       "    <tr>\n",
       "      <th>11</th>\n",
       "      <td>Overcast</td>\n",
       "      <td>Mild</td>\n",
       "      <td>High</td>\n",
       "      <td>Strong</td>\n",
       "      <td>Yes</td>\n",
       "    </tr>\n",
       "    <tr>\n",
       "      <th>12</th>\n",
       "      <td>Overcast</td>\n",
       "      <td>Hot</td>\n",
       "      <td>Normal</td>\n",
       "      <td>Weak</td>\n",
       "      <td>Yes</td>\n",
       "    </tr>\n",
       "    <tr>\n",
       "      <th>13</th>\n",
       "      <td>Rain</td>\n",
       "      <td>Mild</td>\n",
       "      <td>High</td>\n",
       "      <td>Strong</td>\n",
       "      <td>No</td>\n",
       "    </tr>\n",
       "  </tbody>\n",
       "</table>\n",
       "</div>"
      ],
      "text/plain": [
       "     outlook  temp humidity    wind play\n",
       "0      Sunny   Hot     High    Weak   No\n",
       "1      Sunny   Hot     High  Strong   No\n",
       "2   Overcast   Hot     High    Weak  Yes\n",
       "3       Rain  Mild     High    Weak  Yes\n",
       "4       Rain  Cool   Normal    Weak  Yes\n",
       "5       Rain  Cool   Normal  Strong   No\n",
       "6   Overcast  Cool   Normal  Strong  Yes\n",
       "7      Sunny  Mild     High    Weak   No\n",
       "8      Sunny  Cool   Normal    Weak  Yes\n",
       "9       Rain  Mild   Normal    Weak  Yes\n",
       "10     Sunny  Mild   Normal  Strong  Yes\n",
       "11  Overcast  Mild     High  Strong  Yes\n",
       "12  Overcast   Hot   Normal    Weak  Yes\n",
       "13      Rain  Mild     High  Strong   No"
      ]
     },
     "execution_count": 5,
     "metadata": {},
     "output_type": "execute_result"
    }
   ],
   "source": [
    "df"
   ]
  },
  {
   "cell_type": "markdown",
   "metadata": {
    "id": "D-uq-mfOgOSC"
   },
   "source": [
    "# Q1"
   ]
  },
  {
   "cell_type": "code",
   "execution_count": 6,
   "metadata": {
    "id": "cHJxl3NIWSKq"
   },
   "outputs": [],
   "source": [
    "def Naive_Bayes(X):\n",
    "    No = df.loc[df.play == 'No']\n",
    "    Yes = df.loc[df.play == 'Yes']\n",
    "    features = df.iloc[:,:-1]\n",
    "\n",
    "    probability_No = len(No)/(len(No)+len(Yes))\n",
    "    probability_Yes = len(Yes)/(len(No)+len(Yes))\n",
    "\n",
    "    outlook_yes\t= Yes.iloc[:,:1]\n",
    "    temp_yes = Yes.iloc[:,1:2]\n",
    "    humidity_yes = Yes.iloc[:,2:3]\n",
    "    wind_yes = Yes.iloc[:,3:-1]\n",
    "\n",
    "    outlook_no\t= No.iloc[:,:1]\n",
    "    temp_no = No.iloc[:,1:2]\n",
    "    humidity_no = No.iloc[:,2:3]\n",
    "    wind_no = No.iloc[:,3:-1]\n",
    "\n",
    "    prob_No = (float(outlook_no[outlook_no == X[0]].count())/len(outlook_no) * float(temp_no[temp_no == X[1]].count())/len(temp_no) * float(humidity_no[humidity_no == X[2]].count())/len(humidity_no) * float(wind_no[wind_no == X[3]].count())/len(wind_no))*probability_No\n",
    "    prob_Yes = (float(outlook_yes[outlook_yes == X[0]].count())/len(outlook_yes) * float(temp_yes[temp_yes == X[1]].count())/len(temp_yes) * float(humidity_yes[humidity_yes == X[2]].count())/len(humidity_yes) * float(wind_yes[wind_yes == X[3]].count())/len(wind_yes))*probability_Yes\n",
    "    \n",
    "    print(f'Probability of No {prob_No} and Probability of Yes {prob_Yes}.\\n')\n",
    "\n",
    "    if prob_No > prob_Yes:\n",
    "        print(\"It belongs to class NO. That means they wont play\")\n",
    "    else:\n",
    "        print(\"It belongs to class YES. That means they will play\")"
   ]
  },
  {
   "cell_type": "code",
   "execution_count": 7,
   "metadata": {
    "colab": {
     "base_uri": "https://localhost:8080/"
    },
    "id": "msD3c1H0cQNI",
    "outputId": "f734fce6-59a8-493e-9c37-f5f8d106c895"
   },
   "outputs": [
    {
     "name": "stdout",
     "output_type": "stream",
     "text": [
      "Probability of No 0.02742857142857143 and Probability of Yes 0.007054673721340388.\n",
      "\n",
      "It belongs to class NO. That means they wont play\n"
     ]
    }
   ],
   "source": [
    "Naive_Bayes(['Sunny','Hot','High','Weak'])"
   ]
  },
  {
   "cell_type": "markdown",
   "metadata": {
    "id": "8FHkU-5Lh0r7"
   },
   "source": [
    "## Q2"
   ]
  },
  {
   "cell_type": "code",
   "execution_count": 8,
   "metadata": {
    "id": "6PJGIHRfiM0S"
   },
   "outputs": [],
   "source": [
    "def Naive_Bayesian(sentence):\n",
    "    Positive = 'I love mangoes.Mangoes are a lot tastier than other fruits.I like mangoes because they are good.Apples are good too but I prefer mangoes.People say mango is the king of fruit so that is why mangoes are good.Mangoes are good because they are juicy'\n",
    "    Negative = 'Eating too many mangoes can have a negative impact on your health.Mangoes are good but not too good, I like apples more than mangoes.I don’t like mangoes because they are expensive.Mangoes are not good.I don’t like mangoes.'\n",
    "    pos = 0\n",
    "    neg = 0\n",
    "\n",
    "    Positive = Positive.split()\n",
    "    Negative = Negative.split()\n",
    "    sentence = sentence.split()\n",
    "\n",
    "    for i in Positive:\n",
    "        for j in sentence:\n",
    "            if i == j:\n",
    "                pos += 1\n",
    "\n",
    "    for i in Negative:\n",
    "        for j in sentence:\n",
    "            if i == j:\n",
    "                neg += 1\n",
    "\n",
    "    pos = pos*(len(Positive)/(len(Negative)+len(Positive)))\n",
    "    neg = neg*(len(Negative)/(len(Negative)+len(Positive)))\n",
    "\n",
    "    if pos > neg:\n",
    "        print(\"Positive sentence\")\n",
    "    else:\n",
    "        print(\"Negative sentence\")"
   ]
  },
  {
   "cell_type": "code",
   "execution_count": 9,
   "metadata": {
    "colab": {
     "base_uri": "https://localhost:8080/"
    },
    "id": "b0haSeaskFLR",
    "outputId": "4c197532-f62b-428d-87df-0a0897a1b9aa"
   },
   "outputs": [
    {
     "name": "stdout",
     "output_type": "stream",
     "text": [
      "Positive sentence\n"
     ]
    }
   ],
   "source": [
    "Naive_Bayesian('Mangoes are good')"
   ]
  },
  {
   "cell_type": "code",
   "execution_count": 162,
   "metadata": {
    "id": "UvqS6Nc8k6he"
   },
   "outputs": [],
   "source": [
    "def Bayesian(sentence):\n",
    "    Positive = 'I love mangoes.Mangoes are a lot tastier than other fruits.I like mangoes because they are good.Apples are good too but I prefer mangoes.People say mango is the king of fruit so that is why mangoes are good.Mangoes are good because they are juicy'\n",
    "    Negative = 'Eating too many mangoes can have a negative impact on your health.Mangoes are good but not too good, I like apples more than mangoes.I don’t like mangoes because they are expensive.Mangoes are not good.I don’t like mangoes.'\n",
    "    pos = 0\n",
    "    neg = 0\n",
    "\n",
    "    #Both the training sentences are cleaned\n",
    "    Positive = Positive.lower().replace('.',' ').split()\n",
    "    Negative = Negative.lower().replace('.',' ').split()\n",
    "\n",
    "    test_sentence = sentence.lower().split()\n",
    "\n",
    "    #positive and negative probabilities\n",
    "    pos = len(Positive)/(len(Negative)+len(Positive))\n",
    "    neg = len(Negative)/(len(Negative)+len(Positive))\n",
    "\n",
    "    positive = 0\n",
    "    count = 0\n",
    "    new_sent = ''\n",
    "    sentence = ''\n",
    "    all_prob = []\n",
    "    Probability_Positive = 0\n",
    "    Probability_Negative = 0\n",
    "    \n",
    "    #traverse through the Positive and Negative Sentences\n",
    "    for k in range(len(test_sentence)):\n",
    "        new_sent = test_sentence[:k+1]\n",
    "        \n",
    "        #if not the first word\n",
    "        if k != 0:\n",
    "            count = 0\n",
    "            for i in range(len(Positive)):\n",
    "                if Positive[i] == new_sent[k]:\n",
    "                    check_with = new_sent[:k]\n",
    "                    check = Positive[:i]\n",
    "                    for j in check_with:\n",
    "                        count += check.count(j) # counts the occurance of word prior to its own occurance\n",
    "                        \n",
    "            count /= len(Positive)\n",
    "            prob = count*pos\n",
    "            all_prob.append(prob)\n",
    "        else:\n",
    "            #occurance of first word\n",
    "            for i in Positive:\n",
    "                if i == new_sent[0]:\n",
    "                    count += 1\n",
    "                    \n",
    "            count /= len(Positive)\n",
    "            prob = count*pos\n",
    "            all_prob.append(prob)\n",
    "            \n",
    "    Probability_Positive = np.prod(all_prob)\n",
    "    \n",
    "    #same for negative words\n",
    "    for k in range(len(test_sentence)):\n",
    "        new_sent = test_sentence[:k+1]\n",
    "        if k != 0:\n",
    "            count = 0\n",
    "            for i in range(len(Negative)):\n",
    "                if Negative[i] == new_sent[k]:\n",
    "                    check_with = new_sent[:k]\n",
    "                    check = Negative[:i]\n",
    "                    for j in check_with:\n",
    "                        count += check.count(j)\n",
    "                        \n",
    "            count /= len(Negative)\n",
    "            prob = count*pos\n",
    "            all_prob.append(prob)\n",
    "        else:\n",
    "            for i in Negative:\n",
    "                if i == new_sent[0]:\n",
    "                    count += 1\n",
    "                    \n",
    "            count /= len(Negative)\n",
    "            prob = count*pos\n",
    "            all_prob.append(prob)\n",
    "            \n",
    "    Probability_Negative = np.prod(all_prob)\n",
    "    \n",
    "    print(Probability_Positive,Probability_Negative)\n",
    "    \n",
    "    if Probability_Positive > Probability_Negative:\n",
    "        print(\"Positive\")\n",
    "    else:\n",
    "        print(\"Negative\")"
   ]
  },
  {
   "cell_type": "code",
   "execution_count": 161,
   "metadata": {
    "colab": {
     "base_uri": "https://localhost:8080/"
    },
    "id": "GZ001OPCmnMm",
    "outputId": "4dd03522-b932-4aea-cba2-ce7c3087a953"
   },
   "outputs": [
    {
     "name": "stdout",
     "output_type": "stream",
     "text": [
      "0.00659603471925716 1.2073129832376224e-05\n",
      "Positive\n"
     ]
    }
   ],
   "source": [
    "Bayesian('Mangoes are good')"
   ]
  }
 ],
 "metadata": {
  "colab": {
   "collapsed_sections": [],
   "provenance": []
  },
  "kernelspec": {
   "display_name": "Python 3 (ipykernel)",
   "language": "python",
   "name": "python3"
  },
  "language_info": {
   "codemirror_mode": {
    "name": "ipython",
    "version": 3
   },
   "file_extension": ".py",
   "mimetype": "text/x-python",
   "name": "python",
   "nbconvert_exporter": "python",
   "pygments_lexer": "ipython3",
   "version": "3.6.9"
  }
 },
 "nbformat": 4,
 "nbformat_minor": 1
}
